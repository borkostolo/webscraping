{
 "cells": [
  {
   "cell_type": "code",
   "execution_count": 1,
   "metadata": {},
   "outputs": [],
   "source": [
    "import os \n",
    "import pandas as pd\n",
    "import numpy as np"
   ]
  },
  {
   "cell_type": "code",
   "execution_count": 2,
   "metadata": {},
   "outputs": [
    {
     "data": {
      "text/plain": [
       "['reviewsj.csv',\n",
       " 'reviewsk.csv',\n",
       " 'reviewsi.csv',\n",
       " 'reviewsh.csv',\n",
       " 'reviews.csv',\n",
       " 'reviewsl.csv',\n",
       " 'reviewsm.csv',\n",
       " 'Untitled.ipynb',\n",
       " 'food.csv',\n",
       " '.ipynb_checkpoints',\n",
       " 'reviewsc.csv',\n",
       " 'reviewsb.csv',\n",
       " 'reviewse.csv',\n",
       " 'reviewsd.csv',\n",
       " 'reviewsf.csv',\n",
       " 'reviewsg.csv']"
      ]
     },
     "execution_count": 2,
     "metadata": {},
     "output_type": "execute_result"
    }
   ],
   "source": [
    "os.listdir()"
   ]
  },
  {
   "cell_type": "code",
   "execution_count": 335,
   "metadata": {},
   "outputs": [],
   "source": [
    "fooddf = pd.read_csv('food.csv')"
   ]
  },
  {
   "cell_type": "code",
   "execution_count": 336,
   "metadata": {},
   "outputs": [
    {
     "data": {
      "text/plain": [
       "Index(['ingredients', 'level', 'name', 'rating', 'review', 'servings', 'steps',\n",
       "       'total'],\n",
       "      dtype='object')"
      ]
     },
     "execution_count": 336,
     "metadata": {},
     "output_type": "execute_result"
    }
   ],
   "source": [
    "fooddf.columns"
   ]
  },
  {
   "cell_type": "code",
   "execution_count": 337,
   "metadata": {},
   "outputs": [
    {
     "data": {
      "text/plain": [
       "(2953, 8)"
      ]
     },
     "execution_count": 337,
     "metadata": {},
     "output_type": "execute_result"
    }
   ],
   "source": [
    "fooddf.shape"
   ]
  },
  {
   "cell_type": "code",
   "execution_count": 6,
   "metadata": {},
   "outputs": [
    {
     "data": {
      "text/plain": [
       "<bound method NDFrame.head of                                             ingredients level  \\\n",
       "0                                                   NaN  Easy   \n",
       "1     4 tablespoons (1/2 stick) unsalted butter,4 cl...  Easy   \n",
       "2     1/4 cup unsalted butter,2 ripe Bosc pears, pee...  Easy   \n",
       "3     4 8-ounce skinless, boneless chicken breasts,K...  Easy   \n",
       "4                                                   NaN  Easy   \n",
       "...                                                 ...   ...   \n",
       "2948  2 teaspoons vegetable oil,8 ounces breakfast s...  Easy   \n",
       "2949  1/2 cup short-grain rice (sushi rice),1 tables...  Easy   \n",
       "2950  1 1/4 cups all-purpose flour,3/4 cup sugar,1/2...  Easy   \n",
       "2951  2 large eggs,1 cup heavy cream,1 tablespoon va...  Easy   \n",
       "2952  1/2 cup pure maple syrup,2 tablespoons hot sau...  Easy   \n",
       "\n",
       "                                        name rating review  servings steps  \\\n",
       "0                   7-Layer Thai Chicken Dip    WIP    WIP         8   WIP   \n",
       "1     Healthy Garlic Shrimp and Quinoa Grits    WIP    WIP         4   WIP   \n",
       "2                           Ginger Pear Cake    WIP    WIP        12   WIP   \n",
       "3             Foil-Packet Chicken Puttanesca    WIP    WIP         4   WIP   \n",
       "4                        Extra-Creamy Hummus    WIP    WIP         4   WIP   \n",
       "...                                      ...    ...    ...       ...   ...   \n",
       "2948      Waffled Biscuits and Sausage Gravy    WIP    WIP         4   WIP   \n",
       "2949                        Waffled Bibimbap    WIP    WIP         2   WIP   \n",
       "2950                    Waffled Banana Bread    WIP    WIP         8   WIP   \n",
       "2951                            Waffle Cones    WIP    WIP        16   WIP   \n",
       "2952                  Waffle Chicken Fingers    WIP    WIP         4   WIP   \n",
       "\n",
       "             total  \n",
       "0           25 min  \n",
       "1           40 min  \n",
       "2      1 hr 20 min  \n",
       "3           40 min  \n",
       "4           20 min  \n",
       "...            ...  \n",
       "2948        35 min  \n",
       "2949   1 hr 20 min  \n",
       "2950        35 min  \n",
       "2951           NaN  \n",
       "2952        30 min  \n",
       "\n",
       "[2953 rows x 8 columns]>"
      ]
     },
     "execution_count": 6,
     "metadata": {},
     "output_type": "execute_result"
    }
   ],
   "source": [
    "fooddf.head"
   ]
  },
  {
   "cell_type": "code",
   "execution_count": 7,
   "metadata": {},
   "outputs": [
    {
     "data": {
      "text/plain": [
       "Index(['ingredients', 'level', 'name', 'rating', 'review', 'servings', 'steps',\n",
       "       'total'],\n",
       "      dtype='object')"
      ]
     },
     "execution_count": 7,
     "metadata": {},
     "output_type": "execute_result"
    }
   ],
   "source": [
    "fooddf.columns"
   ]
  },
  {
   "cell_type": "code",
   "execution_count": 33,
   "metadata": {},
   "outputs": [],
   "source": [
    "crates = pd.read_csv('reviewsc.csv',names=['name','review','rating'])"
   ]
  },
  {
   "cell_type": "code",
   "execution_count": 11,
   "metadata": {},
   "outputs": [
    {
     "data": {
      "text/plain": [
       "<bound method NDFrame.head of 0                       Cabbage Soup\n",
       "1                       Cabbage Soup\n",
       "2                       Cabbage Soup\n",
       "3                       Cabbage Soup\n",
       "4                       Cabbage Soup\n",
       "                   ...              \n",
       "82    Cajun Chicken with Pinto Beans\n",
       "83    Cajun Chicken with Pinto Beans\n",
       "84    Cajun Chicken with Pinto Beans\n",
       "85    Cajun Chicken with Pinto Beans\n",
       "86    Cajun Chicken with Pinto Beans\n",
       "Name: name, Length: 87, dtype: object>"
      ]
     },
     "execution_count": 11,
     "metadata": {},
     "output_type": "execute_result"
    }
   ],
   "source": [
    "crates['name'].head"
   ]
  },
  {
   "cell_type": "code",
   "execution_count": 34,
   "metadata": {},
   "outputs": [
    {
     "data": {
      "text/plain": [
       "Index(['name', 'review', 'rating'], dtype='object')"
      ]
     },
     "execution_count": 34,
     "metadata": {},
     "output_type": "execute_result"
    }
   ],
   "source": [
    "crates.keys()"
   ]
  },
  {
   "cell_type": "raw",
   "metadata": {},
   "source": [
    "crates['rating'].head"
   ]
  },
  {
   "cell_type": "code",
   "execution_count": 18,
   "metadata": {},
   "outputs": [
    {
     "data": {
      "text/plain": [
       "pandas.core.frame.DataFrame"
      ]
     },
     "execution_count": 18,
     "metadata": {},
     "output_type": "execute_result"
    }
   ],
   "source": [
    "type(crates)"
   ]
  },
  {
   "cell_type": "code",
   "execution_count": 25,
   "metadata": {},
   "outputs": [
    {
     "data": {
      "text/plain": [
       "<bound method NDFrame.head of 0     4.4 of 5 stars\n",
       "1     4.4 of 5 stars\n",
       "2     4.4 of 5 stars\n",
       "3     4.4 of 5 stars\n",
       "4     4.4 of 5 stars\n",
       "           ...      \n",
       "82      5 of 5 stars\n",
       "83      5 of 5 stars\n",
       "84      5 of 5 stars\n",
       "85      5 of 5 stars\n",
       "86      5 of 5 stars\n",
       "Name: rating, Length: 87, dtype: object>"
      ]
     },
     "execution_count": 25,
     "metadata": {},
     "output_type": "execute_result"
    }
   ],
   "source": [
    "crates.rating.head"
   ]
  },
  {
   "cell_type": "code",
   "execution_count": 352,
   "metadata": {},
   "outputs": [
    {
     "data": {
      "text/html": [
       "<div>\n",
       "<style scoped>\n",
       "    .dataframe tbody tr th:only-of-type {\n",
       "        vertical-align: middle;\n",
       "    }\n",
       "\n",
       "    .dataframe tbody tr th {\n",
       "        vertical-align: top;\n",
       "    }\n",
       "\n",
       "    .dataframe thead th {\n",
       "        text-align: right;\n",
       "    }\n",
       "</style>\n",
       "<table border=\"1\" class=\"dataframe\">\n",
       "  <thead>\n",
       "    <tr style=\"text-align: right;\">\n",
       "      <th></th>\n",
       "      <th>name</th>\n",
       "    </tr>\n",
       "  </thead>\n",
       "  <tbody>\n",
       "    <tr>\n",
       "      <td>0</td>\n",
       "      <td>Cabbage Soup</td>\n",
       "    </tr>\n",
       "    <tr>\n",
       "      <td>1</td>\n",
       "      <td>Cabbage Soup</td>\n",
       "    </tr>\n",
       "    <tr>\n",
       "      <td>2</td>\n",
       "      <td>Cabbage Soup</td>\n",
       "    </tr>\n",
       "    <tr>\n",
       "      <td>3</td>\n",
       "      <td>Cabbage Soup</td>\n",
       "    </tr>\n",
       "    <tr>\n",
       "      <td>4</td>\n",
       "      <td>Cabbage Soup</td>\n",
       "    </tr>\n",
       "  </tbody>\n",
       "</table>\n",
       "</div>"
      ],
      "text/plain": [
       "           name\n",
       "0  Cabbage Soup\n",
       "1  Cabbage Soup\n",
       "2  Cabbage Soup\n",
       "3  Cabbage Soup\n",
       "4  Cabbage Soup"
      ]
     },
     "execution_count": 352,
     "metadata": {},
     "output_type": "execute_result"
    }
   ],
   "source": [
    "crates[['name']][:5]"
   ]
  },
  {
   "cell_type": "code",
   "execution_count": 36,
   "metadata": {},
   "outputs": [
    {
     "data": {
      "text/plain": [
       "Index(['name', 'review', 'rating'], dtype='object')"
      ]
     },
     "execution_count": 36,
     "metadata": {},
     "output_type": "execute_result"
    }
   ],
   "source": [
    "crates.keys()"
   ]
  },
  {
   "cell_type": "code",
   "execution_count": 37,
   "metadata": {},
   "outputs": [],
   "source": [
    "# df1.apply(lambda x: max(x), axis=0)"
   ]
  },
  {
   "cell_type": "code",
   "execution_count": 39,
   "metadata": {},
   "outputs": [
    {
     "data": {
      "text/plain": [
       "dtype('O')"
      ]
     },
     "execution_count": 39,
     "metadata": {},
     "output_type": "execute_result"
    }
   ],
   "source": [
    "crates['rating'].dtypes"
   ]
  },
  {
   "cell_type": "code",
   "execution_count": 41,
   "metadata": {},
   "outputs": [
    {
     "data": {
      "text/plain": [
       "str"
      ]
     },
     "execution_count": 41,
     "metadata": {},
     "output_type": "execute_result"
    }
   ],
   "source": [
    "type(crates['rating'][0])"
   ]
  },
  {
   "cell_type": "code",
   "execution_count": 42,
   "metadata": {},
   "outputs": [],
   "source": [
    "crates.rating = crates.rating.str.replace('of 5 stars','')"
   ]
  },
  {
   "cell_type": "code",
   "execution_count": 48,
   "metadata": {},
   "outputs": [],
   "source": [
    "crates.rating = crates.rating.astype('float')"
   ]
  },
  {
   "cell_type": "code",
   "execution_count": 53,
   "metadata": {},
   "outputs": [
    {
     "data": {
      "text/plain": [
       "0    Great soup. Followed the recipe the first time...\n",
       "Name: review, dtype: object"
      ]
     },
     "execution_count": 53,
     "metadata": {},
     "output_type": "execute_result"
    }
   ],
   "source": [
    "crates.review[:1]"
   ]
  },
  {
   "cell_type": "code",
   "execution_count": 54,
   "metadata": {},
   "outputs": [],
   "source": [
    "crates.review = crates.review.astype('str')\n",
    "crates = pd.read_csv('reviewsc.csv',names=['name','review','rating'])"
   ]
  },
  {
   "cell_type": "code",
   "execution_count": 56,
   "metadata": {},
   "outputs": [
    {
     "data": {
      "text/plain": [
       "['reviewsj.csv',\n",
       " 'reviewsk.csv',\n",
       " 'reviewsi.csv',\n",
       " 'reviewsh.csv',\n",
       " 'reviews.csv',\n",
       " 'reviewsl.csv',\n",
       " 'reviewsm.csv',\n",
       " 'Untitled.ipynb',\n",
       " 'food.csv',\n",
       " '.ipynb_checkpoints',\n",
       " 'reviewsc.csv',\n",
       " 'reviewsb.csv',\n",
       " 'reviewse.csv',\n",
       " 'reviewsd.csv',\n",
       " 'reviewsf.csv',\n",
       " 'reviewsg.csv']"
      ]
     },
     "execution_count": 56,
     "metadata": {},
     "output_type": "execute_result"
    }
   ],
   "source": [
    "os.listdir()"
   ]
  },
  {
   "cell_type": "code",
   "execution_count": 61,
   "metadata": {},
   "outputs": [],
   "source": [
    "drates = pd.read_csv('reviewsd.csv',names=['name','review','rating'])\n",
    "# crates.rating = crates.rating.str.replace('of 5 stars','')"
   ]
  },
  {
   "cell_type": "code",
   "execution_count": 62,
   "metadata": {},
   "outputs": [
    {
     "data": {
      "text/plain": [
       "Index(['name', 'review', 'rating'], dtype='object')"
      ]
     },
     "execution_count": 62,
     "metadata": {},
     "output_type": "execute_result"
    }
   ],
   "source": [
    "drates.keys()"
   ]
  },
  {
   "cell_type": "code",
   "execution_count": 64,
   "metadata": {},
   "outputs": [],
   "source": [
    "drates.name = drates.name.astype('str')"
   ]
  },
  {
   "cell_type": "code",
   "execution_count": 65,
   "metadata": {},
   "outputs": [
    {
     "data": {
      "text/plain": [
       "str"
      ]
     },
     "execution_count": 65,
     "metadata": {},
     "output_type": "execute_result"
    }
   ],
   "source": [
    "type(drates.name[2])"
   ]
  },
  {
   "cell_type": "code",
   "execution_count": 66,
   "metadata": {},
   "outputs": [
    {
     "data": {
      "text/plain": [
       "'Deep-Fried Green Beans'"
      ]
     },
     "execution_count": 66,
     "metadata": {},
     "output_type": "execute_result"
    }
   ],
   "source": [
    "drates.name[2]"
   ]
  },
  {
   "cell_type": "code",
   "execution_count": 71,
   "metadata": {},
   "outputs": [],
   "source": [
    "crates.rating = crates.rating.str.replace('of 5 stars','')"
   ]
  },
  {
   "cell_type": "code",
   "execution_count": 68,
   "metadata": {},
   "outputs": [],
   "source": [
    "crates.name = crates.name.astype('str')"
   ]
  },
  {
   "cell_type": "code",
   "execution_count": 72,
   "metadata": {},
   "outputs": [
    {
     "data": {
      "text/html": [
       "<div>\n",
       "<style scoped>\n",
       "    .dataframe tbody tr th:only-of-type {\n",
       "        vertical-align: middle;\n",
       "    }\n",
       "\n",
       "    .dataframe tbody tr th {\n",
       "        vertical-align: top;\n",
       "    }\n",
       "\n",
       "    .dataframe thead th {\n",
       "        text-align: right;\n",
       "    }\n",
       "</style>\n",
       "<table border=\"1\" class=\"dataframe\">\n",
       "  <thead>\n",
       "    <tr style=\"text-align: right;\">\n",
       "      <th></th>\n",
       "      <th>name</th>\n",
       "      <th>review</th>\n",
       "      <th>rating</th>\n",
       "    </tr>\n",
       "  </thead>\n",
       "  <tbody>\n",
       "    <tr>\n",
       "      <td>0</td>\n",
       "      <td>Cabbage Soup</td>\n",
       "      <td>Great soup. Followed the recipe the first time...</td>\n",
       "      <td>4.4</td>\n",
       "    </tr>\n",
       "    <tr>\n",
       "      <td>1</td>\n",
       "      <td>Cabbage Soup</td>\n",
       "      <td>To my family it was not very flavorful.</td>\n",
       "      <td>4.4</td>\n",
       "    </tr>\n",
       "    <tr>\n",
       "      <td>2</td>\n",
       "      <td>Cabbage Soup</td>\n",
       "      <td>Great soup even better with kielbasa</td>\n",
       "      <td>4.4</td>\n",
       "    </tr>\n",
       "    <tr>\n",
       "      <td>3</td>\n",
       "      <td>Cabbage Soup</td>\n",
       "      <td>Great soup!</td>\n",
       "      <td>4.4</td>\n",
       "    </tr>\n",
       "    <tr>\n",
       "      <td>4</td>\n",
       "      <td>Cabbage Soup</td>\n",
       "      <td>This was fantastic! Cooking the veggies added ...</td>\n",
       "      <td>4.4</td>\n",
       "    </tr>\n",
       "    <tr>\n",
       "      <td>...</td>\n",
       "      <td>...</td>\n",
       "      <td>...</td>\n",
       "      <td>...</td>\n",
       "    </tr>\n",
       "    <tr>\n",
       "      <td>15</td>\n",
       "      <td>Detroit-Style Pizza</td>\n",
       "      <td>I've been eating Detroit pizza for years. This...</td>\n",
       "      <td>2.5</td>\n",
       "    </tr>\n",
       "    <tr>\n",
       "      <td>16</td>\n",
       "      <td>Detroit-Style Pizza</td>\n",
       "      <td>We lived in Detroit for 30 years and had MANY,...</td>\n",
       "      <td>2.5</td>\n",
       "    </tr>\n",
       "    <tr>\n",
       "      <td>17</td>\n",
       "      <td>Detroit-Style Pizza</td>\n",
       "      <td>I grew up in MIchigan and lived in Detroit for...</td>\n",
       "      <td>2.5</td>\n",
       "    </tr>\n",
       "    <tr>\n",
       "      <td>18</td>\n",
       "      <td>Detroit-Style Pizza</td>\n",
       "      <td>Does sound something like making a sort of bre...</td>\n",
       "      <td>2.5</td>\n",
       "    </tr>\n",
       "    <tr>\n",
       "      <td>19</td>\n",
       "      <td>Detroit-Style Pizza</td>\n",
       "      <td>You’re a chef and don’t know how to spell boui...</td>\n",
       "      <td>2.5</td>\n",
       "    </tr>\n",
       "  </tbody>\n",
       "</table>\n",
       "<p>107 rows × 3 columns</p>\n",
       "</div>"
      ],
      "text/plain": [
       "                   name                                             review  \\\n",
       "0          Cabbage Soup  Great soup. Followed the recipe the first time...   \n",
       "1          Cabbage Soup            To my family it was not very flavorful.   \n",
       "2          Cabbage Soup               Great soup even better with kielbasa   \n",
       "3          Cabbage Soup                                        Great soup!   \n",
       "4          Cabbage Soup  This was fantastic! Cooking the veggies added ...   \n",
       "..                  ...                                                ...   \n",
       "15  Detroit-Style Pizza  I've been eating Detroit pizza for years. This...   \n",
       "16  Detroit-Style Pizza  We lived in Detroit for 30 years and had MANY,...   \n",
       "17  Detroit-Style Pizza  I grew up in MIchigan and lived in Detroit for...   \n",
       "18  Detroit-Style Pizza  Does sound something like making a sort of bre...   \n",
       "19  Detroit-Style Pizza  You’re a chef and don’t know how to spell boui...   \n",
       "\n",
       "   rating  \n",
       "0    4.4   \n",
       "1    4.4   \n",
       "2    4.4   \n",
       "3    4.4   \n",
       "4    4.4   \n",
       "..    ...  \n",
       "15   2.5   \n",
       "16   2.5   \n",
       "17   2.5   \n",
       "18   2.5   \n",
       "19   2.5   \n",
       "\n",
       "[107 rows x 3 columns]"
      ]
     },
     "execution_count": 72,
     "metadata": {},
     "output_type": "execute_result"
    }
   ],
   "source": [
    "# pd.concat([df1, df2], axis = 1)\n",
    "\n",
    "pd.concat([crates,drates],axis = 0)"
   ]
  },
  {
   "cell_type": "code",
   "execution_count": 73,
   "metadata": {},
   "outputs": [],
   "source": [
    "allrates = pd.concat([crates,drates],axis = 0)"
   ]
  },
  {
   "cell_type": "code",
   "execution_count": 338,
   "metadata": {},
   "outputs": [
    {
     "data": {
      "text/plain": [
       "Index(['ingredients', 'level', 'name', 'rating', 'review', 'servings', 'steps',\n",
       "       'total'],\n",
       "      dtype='object')"
      ]
     },
     "execution_count": 338,
     "metadata": {},
     "output_type": "execute_result"
    }
   ],
   "source": [
    "fooddf.keys()"
   ]
  },
  {
   "cell_type": "code",
   "execution_count": 339,
   "metadata": {},
   "outputs": [],
   "source": [
    "fooddf = fooddf.drop(['steps','review','rating'],1)"
   ]
  },
  {
   "cell_type": "code",
   "execution_count": 341,
   "metadata": {},
   "outputs": [
    {
     "data": {
      "text/plain": [
       "Index(['ingredients', 'level', 'name', 'servings', 'total'], dtype='object')"
      ]
     },
     "execution_count": 341,
     "metadata": {},
     "output_type": "execute_result"
    }
   ],
   "source": [
    "fooddf.keys()"
   ]
  },
  {
   "cell_type": "code",
   "execution_count": 342,
   "metadata": {},
   "outputs": [
    {
     "data": {
      "text/plain": [
       "<bound method NDFrame.head of                                             ingredients level  \\\n",
       "0                                                   NaN  Easy   \n",
       "1     4 tablespoons (1/2 stick) unsalted butter,4 cl...  Easy   \n",
       "2     1/4 cup unsalted butter,2 ripe Bosc pears, pee...  Easy   \n",
       "3     4 8-ounce skinless, boneless chicken breasts,K...  Easy   \n",
       "4                                                   NaN  Easy   \n",
       "...                                                 ...   ...   \n",
       "2948  2 teaspoons vegetable oil,8 ounces breakfast s...  Easy   \n",
       "2949  1/2 cup short-grain rice (sushi rice),1 tables...  Easy   \n",
       "2950  1 1/4 cups all-purpose flour,3/4 cup sugar,1/2...  Easy   \n",
       "2951  2 large eggs,1 cup heavy cream,1 tablespoon va...  Easy   \n",
       "2952  1/2 cup pure maple syrup,2 tablespoons hot sau...  Easy   \n",
       "\n",
       "                                        name  servings         total  \n",
       "0                   7-Layer Thai Chicken Dip         8        25 min  \n",
       "1     Healthy Garlic Shrimp and Quinoa Grits         4        40 min  \n",
       "2                           Ginger Pear Cake        12   1 hr 20 min  \n",
       "3             Foil-Packet Chicken Puttanesca         4        40 min  \n",
       "4                        Extra-Creamy Hummus         4        20 min  \n",
       "...                                      ...       ...           ...  \n",
       "2948      Waffled Biscuits and Sausage Gravy         4        35 min  \n",
       "2949                        Waffled Bibimbap         2   1 hr 20 min  \n",
       "2950                    Waffled Banana Bread         8        35 min  \n",
       "2951                            Waffle Cones        16           NaN  \n",
       "2952                  Waffle Chicken Fingers         4        30 min  \n",
       "\n",
       "[2953 rows x 5 columns]>"
      ]
     },
     "execution_count": 342,
     "metadata": {},
     "output_type": "execute_result"
    }
   ],
   "source": [
    "fooddf.head"
   ]
  },
  {
   "cell_type": "code",
   "execution_count": null,
   "metadata": {},
   "outputs": [],
   "source": []
  },
  {
   "cell_type": "code",
   "execution_count": 355,
   "metadata": {},
   "outputs": [
    {
     "name": "stderr",
     "output_type": "stream",
     "text": [
      "/Users/karolylajko/opt/anaconda3/lib/python3.7/site-packages/ipykernel_launcher.py:1: SettingWithCopyWarning: \n",
      "A value is trying to be set on a copy of a slice from a DataFrame\n",
      "\n",
      "See the caveats in the documentation: http://pandas.pydata.org/pandas-docs/stable/user_guide/indexing.html#returning-a-view-versus-a-copy\n",
      "  \"\"\"Entry point for launching an IPython kernel.\n"
     ]
    }
   ],
   "source": [
    "fooddf.ingredients[fooddf.ingredients.isnull()]='none'"
   ]
  },
  {
   "cell_type": "code",
   "execution_count": null,
   "metadata": {},
   "outputs": [],
   "source": []
  },
  {
   "cell_type": "code",
   "execution_count": 356,
   "metadata": {},
   "outputs": [
    {
     "name": "stderr",
     "output_type": "stream",
     "text": [
      "/Users/karolylajko/opt/anaconda3/lib/python3.7/site-packages/ipykernel_launcher.py:1: SettingWithCopyWarning: \n",
      "A value is trying to be set on a copy of a slice from a DataFrame\n",
      "\n",
      "See the caveats in the documentation: http://pandas.pydata.org/pandas-docs/stable/user_guide/indexing.html#returning-a-view-versus-a-copy\n",
      "  \"\"\"Entry point for launching an IPython kernel.\n"
     ]
    }
   ],
   "source": [
    "fooddf.total[fooddf.total.isnull()] = '0 hr 0 min'"
   ]
  },
  {
   "cell_type": "code",
   "execution_count": 357,
   "metadata": {},
   "outputs": [
    {
     "data": {
      "text/html": [
       "<div>\n",
       "<style scoped>\n",
       "    .dataframe tbody tr th:only-of-type {\n",
       "        vertical-align: middle;\n",
       "    }\n",
       "\n",
       "    .dataframe tbody tr th {\n",
       "        vertical-align: top;\n",
       "    }\n",
       "\n",
       "    .dataframe thead th {\n",
       "        text-align: right;\n",
       "    }\n",
       "</style>\n",
       "<table border=\"1\" class=\"dataframe\">\n",
       "  <thead>\n",
       "    <tr style=\"text-align: right;\">\n",
       "      <th></th>\n",
       "      <th>ingredients</th>\n",
       "      <th>level</th>\n",
       "      <th>name</th>\n",
       "      <th>servings</th>\n",
       "      <th>total</th>\n",
       "    </tr>\n",
       "  </thead>\n",
       "  <tbody>\n",
       "    <tr>\n",
       "      <td>0</td>\n",
       "      <td>none</td>\n",
       "      <td>Easy</td>\n",
       "      <td>7-Layer Thai Chicken Dip</td>\n",
       "      <td>8</td>\n",
       "      <td>25 min</td>\n",
       "    </tr>\n",
       "    <tr>\n",
       "      <td>1</td>\n",
       "      <td>4 tablespoons (1/2 stick) unsalted butter,4 cl...</td>\n",
       "      <td>Easy</td>\n",
       "      <td>Healthy Garlic Shrimp and Quinoa Grits</td>\n",
       "      <td>4</td>\n",
       "      <td>40 min</td>\n",
       "    </tr>\n",
       "    <tr>\n",
       "      <td>2</td>\n",
       "      <td>1/4 cup unsalted butter,2 ripe Bosc pears, pee...</td>\n",
       "      <td>Easy</td>\n",
       "      <td>Ginger Pear Cake</td>\n",
       "      <td>12</td>\n",
       "      <td>1 hr 20 min</td>\n",
       "    </tr>\n",
       "    <tr>\n",
       "      <td>3</td>\n",
       "      <td>4 8-ounce skinless, boneless chicken breasts,K...</td>\n",
       "      <td>Easy</td>\n",
       "      <td>Foil-Packet Chicken Puttanesca</td>\n",
       "      <td>4</td>\n",
       "      <td>40 min</td>\n",
       "    </tr>\n",
       "    <tr>\n",
       "      <td>4</td>\n",
       "      <td>none</td>\n",
       "      <td>Easy</td>\n",
       "      <td>Extra-Creamy Hummus</td>\n",
       "      <td>4</td>\n",
       "      <td>20 min</td>\n",
       "    </tr>\n",
       "    <tr>\n",
       "      <td>5</td>\n",
       "      <td>3 tablespoons unsalted butter,1/2 pineapple, p...</td>\n",
       "      <td>Easy</td>\n",
       "      <td>Dulce de Leche-Pineapple Ice Cream Sundaes</td>\n",
       "      <td>4</td>\n",
       "      <td>20 min</td>\n",
       "    </tr>\n",
       "    <tr>\n",
       "      <td>6</td>\n",
       "      <td>1 1/2 cups granulated sugar,1/2 teaspoon fresh...</td>\n",
       "      <td>Easy</td>\n",
       "      <td>Caramel for a Gingerbread House</td>\n",
       "      <td>3</td>\n",
       "      <td>0 hr 0 min</td>\n",
       "    </tr>\n",
       "    <tr>\n",
       "      <td>7</td>\n",
       "      <td>Kosher salt and freshly ground black pepper,4 ...</td>\n",
       "      <td>Easy</td>\n",
       "      <td>Baked Eggplant and Pancetta Pasta</td>\n",
       "      <td>6</td>\n",
       "      <td>0 hr 0 min</td>\n",
       "    </tr>\n",
       "    <tr>\n",
       "      <td>8</td>\n",
       "      <td>none</td>\n",
       "      <td>Easy</td>\n",
       "      <td>Quinoa-Tomato Salad</td>\n",
       "      <td>4</td>\n",
       "      <td>25 min</td>\n",
       "    </tr>\n",
       "    <tr>\n",
       "      <td>9</td>\n",
       "      <td>Kosher salt,12 ounces bucatini or spaghetti,2 ...</td>\n",
       "      <td>Easy</td>\n",
       "      <td>Pasta with Pancetta and Lentils</td>\n",
       "      <td>4</td>\n",
       "      <td>25 min</td>\n",
       "    </tr>\n",
       "  </tbody>\n",
       "</table>\n",
       "</div>"
      ],
      "text/plain": [
       "                                         ingredients level  \\\n",
       "0                                               none  Easy   \n",
       "1  4 tablespoons (1/2 stick) unsalted butter,4 cl...  Easy   \n",
       "2  1/4 cup unsalted butter,2 ripe Bosc pears, pee...  Easy   \n",
       "3  4 8-ounce skinless, boneless chicken breasts,K...  Easy   \n",
       "4                                               none  Easy   \n",
       "5  3 tablespoons unsalted butter,1/2 pineapple, p...  Easy   \n",
       "6  1 1/2 cups granulated sugar,1/2 teaspoon fresh...  Easy   \n",
       "7  Kosher salt and freshly ground black pepper,4 ...  Easy   \n",
       "8                                               none  Easy   \n",
       "9  Kosher salt,12 ounces bucatini or spaghetti,2 ...  Easy   \n",
       "\n",
       "                                         name  servings         total  \n",
       "0                    7-Layer Thai Chicken Dip         8        25 min  \n",
       "1      Healthy Garlic Shrimp and Quinoa Grits         4        40 min  \n",
       "2                            Ginger Pear Cake        12   1 hr 20 min  \n",
       "3              Foil-Packet Chicken Puttanesca         4        40 min  \n",
       "4                         Extra-Creamy Hummus         4        20 min  \n",
       "5  Dulce de Leche-Pineapple Ice Cream Sundaes         4        20 min  \n",
       "6             Caramel for a Gingerbread House         3    0 hr 0 min  \n",
       "7           Baked Eggplant and Pancetta Pasta         6    0 hr 0 min  \n",
       "8                         Quinoa-Tomato Salad         4        25 min  \n",
       "9             Pasta with Pancetta and Lentils         4        25 min  "
      ]
     },
     "execution_count": 357,
     "metadata": {},
     "output_type": "execute_result"
    }
   ],
   "source": [
    "fooddf[['ingredients', 'level', 'name', 'servings', 'total']][:10]"
   ]
  },
  {
   "cell_type": "code",
   "execution_count": null,
   "metadata": {},
   "outputs": [],
   "source": []
  },
  {
   "cell_type": "code",
   "execution_count": null,
   "metadata": {},
   "outputs": [],
   "source": []
  },
  {
   "cell_type": "code",
   "execution_count": 358,
   "metadata": {},
   "outputs": [
    {
     "data": {
      "text/html": [
       "<div>\n",
       "<style scoped>\n",
       "    .dataframe tbody tr th:only-of-type {\n",
       "        vertical-align: middle;\n",
       "    }\n",
       "\n",
       "    .dataframe tbody tr th {\n",
       "        vertical-align: top;\n",
       "    }\n",
       "\n",
       "    .dataframe thead th {\n",
       "        text-align: right;\n",
       "    }\n",
       "</style>\n",
       "<table border=\"1\" class=\"dataframe\">\n",
       "  <thead>\n",
       "    <tr style=\"text-align: right;\">\n",
       "      <th></th>\n",
       "      <th>total</th>\n",
       "    </tr>\n",
       "  </thead>\n",
       "  <tbody>\n",
       "    <tr>\n",
       "      <td>0</td>\n",
       "      <td>25 min</td>\n",
       "    </tr>\n",
       "    <tr>\n",
       "      <td>1</td>\n",
       "      <td>40 min</td>\n",
       "    </tr>\n",
       "    <tr>\n",
       "      <td>2</td>\n",
       "      <td>1 hr 20 min</td>\n",
       "    </tr>\n",
       "    <tr>\n",
       "      <td>3</td>\n",
       "      <td>40 min</td>\n",
       "    </tr>\n",
       "    <tr>\n",
       "      <td>4</td>\n",
       "      <td>20 min</td>\n",
       "    </tr>\n",
       "  </tbody>\n",
       "</table>\n",
       "</div>"
      ],
      "text/plain": [
       "          total\n",
       "0        25 min\n",
       "1        40 min\n",
       "2   1 hr 20 min\n",
       "3        40 min\n",
       "4        20 min"
      ]
     },
     "execution_count": 358,
     "metadata": {},
     "output_type": "execute_result"
    }
   ],
   "source": [
    "fooddf.keys()\n",
    "fooddf[['total']][:5]"
   ]
  },
  {
   "cell_type": "code",
   "execution_count": 214,
   "metadata": {},
   "outputs": [
    {
     "data": {
      "text/plain": [
       "80"
      ]
     },
     "execution_count": 214,
     "metadata": {},
     "output_type": "execute_result"
    }
   ],
   "source": [
    "tconv(fooddf['total'][2])"
   ]
  },
  {
   "cell_type": "code",
   "execution_count": null,
   "metadata": {},
   "outputs": [],
   "source": []
  },
  {
   "cell_type": "code",
   "execution_count": 237,
   "metadata": {},
   "outputs": [
    {
     "data": {
      "text/plain": [
       "25"
      ]
     },
     "execution_count": 237,
     "metadata": {},
     "output_type": "execute_result"
    }
   ],
   "source": [
    "tconv(fooddf['total'][0])"
   ]
  },
  {
   "cell_type": "code",
   "execution_count": 239,
   "metadata": {},
   "outputs": [
    {
     "data": {
      "text/plain": [
       "0"
      ]
     },
     "execution_count": 239,
     "metadata": {},
     "output_type": "execute_result"
    }
   ],
   "source": [
    "tconv(fooddf['total'][6])"
   ]
  },
  {
   "cell_type": "code",
   "execution_count": 206,
   "metadata": {},
   "outputs": [],
   "source": [
    "fooddf = fooddf.astype('str')\n",
    "# df1.apply(lambda x: max(x), axis=0)"
   ]
  },
  {
   "cell_type": "code",
   "execution_count": 246,
   "metadata": {},
   "outputs": [
    {
     "data": {
      "text/html": [
       "<div>\n",
       "<style scoped>\n",
       "    .dataframe tbody tr th:only-of-type {\n",
       "        vertical-align: middle;\n",
       "    }\n",
       "\n",
       "    .dataframe tbody tr th {\n",
       "        vertical-align: top;\n",
       "    }\n",
       "\n",
       "    .dataframe thead th {\n",
       "        text-align: right;\n",
       "    }\n",
       "</style>\n",
       "<table border=\"1\" class=\"dataframe\">\n",
       "  <thead>\n",
       "    <tr style=\"text-align: right;\">\n",
       "      <th></th>\n",
       "      <th>total</th>\n",
       "    </tr>\n",
       "  </thead>\n",
       "  <tbody>\n",
       "    <tr>\n",
       "      <td>0</td>\n",
       "      <td>25 min</td>\n",
       "    </tr>\n",
       "    <tr>\n",
       "      <td>1</td>\n",
       "      <td>40 min</td>\n",
       "    </tr>\n",
       "    <tr>\n",
       "      <td>2</td>\n",
       "      <td>1 hr 20 min</td>\n",
       "    </tr>\n",
       "    <tr>\n",
       "      <td>3</td>\n",
       "      <td>40 min</td>\n",
       "    </tr>\n",
       "    <tr>\n",
       "      <td>4</td>\n",
       "      <td>20 min</td>\n",
       "    </tr>\n",
       "    <tr>\n",
       "      <td>...</td>\n",
       "      <td>...</td>\n",
       "    </tr>\n",
       "    <tr>\n",
       "      <td>2948</td>\n",
       "      <td>35 min</td>\n",
       "    </tr>\n",
       "    <tr>\n",
       "      <td>2949</td>\n",
       "      <td>1 hr 20 min</td>\n",
       "    </tr>\n",
       "    <tr>\n",
       "      <td>2950</td>\n",
       "      <td>35 min</td>\n",
       "    </tr>\n",
       "    <tr>\n",
       "      <td>2951</td>\n",
       "      <td>0 hr 0 min</td>\n",
       "    </tr>\n",
       "    <tr>\n",
       "      <td>2952</td>\n",
       "      <td>30 min</td>\n",
       "    </tr>\n",
       "  </tbody>\n",
       "</table>\n",
       "<p>2953 rows × 1 columns</p>\n",
       "</div>"
      ],
      "text/plain": [
       "             total\n",
       "0           25 min\n",
       "1           40 min\n",
       "2      1 hr 20 min\n",
       "3           40 min\n",
       "4           20 min\n",
       "...            ...\n",
       "2948        35 min\n",
       "2949   1 hr 20 min\n",
       "2950        35 min\n",
       "2951    0 hr 0 min\n",
       "2952        30 min\n",
       "\n",
       "[2953 rows x 1 columns]"
      ]
     },
     "execution_count": 246,
     "metadata": {},
     "output_type": "execute_result"
    }
   ],
   "source": [
    "fooddf[['total']]\n"
   ]
  },
  {
   "cell_type": "code",
   "execution_count": 175,
   "metadata": {},
   "outputs": [],
   "source": [
    "# df1.apply(lambda x: max(x), axis=0)\n",
    "\n",
    "# df['amount'] = df.money_str.apply( lambda x: float(re.sub( \"[^0-9.]\", \"\", money_str)) )"
   ]
  },
  {
   "cell_type": "code",
   "execution_count": 359,
   "metadata": {},
   "outputs": [],
   "source": [
    "\n",
    "# df1.apply(lambda x: min(x), axis=1)"
   ]
  },
  {
   "cell_type": "code",
   "execution_count": 219,
   "metadata": {},
   "outputs": [
    {
     "data": {
      "text/plain": [
       "' 25 min'"
      ]
     },
     "execution_count": 219,
     "metadata": {},
     "output_type": "execute_result"
    }
   ],
   "source": [
    "fooddf['total'][0]"
   ]
  },
  {
   "cell_type": "code",
   "execution_count": 243,
   "metadata": {},
   "outputs": [
    {
     "data": {
      "text/plain": [
       "0"
      ]
     },
     "execution_count": 243,
     "metadata": {},
     "output_type": "execute_result"
    }
   ],
   "source": [
    "tconv('0 hr 0 min')"
   ]
  },
  {
   "cell_type": "code",
   "execution_count": 244,
   "metadata": {},
   "outputs": [
    {
     "data": {
      "text/plain": [
       "25"
      ]
     },
     "execution_count": 244,
     "metadata": {},
     "output_type": "execute_result"
    }
   ],
   "source": [
    "tconv(fooddf['total'][0])"
   ]
  },
  {
   "cell_type": "code",
   "execution_count": 196,
   "metadata": {},
   "outputs": [
    {
     "data": {
      "text/plain": [
       "0"
      ]
     },
     "execution_count": 196,
     "metadata": {},
     "output_type": "execute_result"
    }
   ],
   "source": [
    "np.sum(fooddf.total.isnull())"
   ]
  },
  {
   "cell_type": "code",
   "execution_count": 344,
   "metadata": {},
   "outputs": [
    {
     "name": "stderr",
     "output_type": "stream",
     "text": [
      "/Users/karolylajko/opt/anaconda3/lib/python3.7/site-packages/ipykernel_launcher.py:1: SettingWithCopyWarning: \n",
      "A value is trying to be set on a copy of a slice from a DataFrame.\n",
      "Try using .loc[row_indexer,col_indexer] = value instead\n",
      "\n",
      "See the caveats in the documentation: http://pandas.pydata.org/pandas-docs/stable/user_guide/indexing.html#returning-a-view-versus-a-copy\n",
      "  \"\"\"Entry point for launching an IPython kernel.\n"
     ]
    }
   ],
   "source": [
    "fooddf[fooddf['total'].isnull()]['total'] = '0 hr 0 min'"
   ]
  },
  {
   "cell_type": "code",
   "execution_count": 360,
   "metadata": {},
   "outputs": [
    {
     "data": {
      "text/plain": [
       "' 1 hr 20 min'"
      ]
     },
     "execution_count": 360,
     "metadata": {},
     "output_type": "execute_result"
    }
   ],
   "source": [
    "fooddf['total'][2]\n",
    "\n"
   ]
  },
  {
   "cell_type": "code",
   "execution_count": 95,
   "metadata": {},
   "outputs": [
    {
     "data": {
      "text/plain": [
       "'1 hr 20 min'"
      ]
     },
     "execution_count": 95,
     "metadata": {},
     "output_type": "execute_result"
    }
   ],
   "source": [
    "ti = ti.strip()\n",
    "ti"
   ]
  },
  {
   "cell_type": "code",
   "execution_count": null,
   "metadata": {},
   "outputs": [],
   "source": [
    "fooddf['total'] = fooddf.total.app(lambda x : re.findall('((\\d+)\\s+hr)?(\\d+)\\s*min',x)[0][1]  )"
   ]
  },
  {
   "cell_type": "code",
   "execution_count": 98,
   "metadata": {},
   "outputs": [
    {
     "data": {
      "text/plain": [
       "[('', '', '20')]"
      ]
     },
     "execution_count": 98,
     "metadata": {},
     "output_type": "execute_result"
    }
   ],
   "source": [
    "re.findall('((\\d+)\\s+hr)?(\\d+)\\s*min',ti)"
   ]
  },
  {
   "cell_type": "code",
   "execution_count": 101,
   "metadata": {},
   "outputs": [],
   "source": [
    "tot = re.findall('((\\d+)\\s+hr\\s+)?(\\d+)\\s+min',ti)"
   ]
  },
  {
   "cell_type": "code",
   "execution_count": 104,
   "metadata": {},
   "outputs": [],
   "source": [
    "hour, m = tot[0][1:]"
   ]
  },
  {
   "cell_type": "code",
   "execution_count": 220,
   "metadata": {},
   "outputs": [
    {
     "name": "stdout",
     "output_type": "stream",
     "text": [
      "1 20\n"
     ]
    }
   ],
   "source": [
    "print(hour,m)"
   ]
  },
  {
   "cell_type": "code",
   "execution_count": 281,
   "metadata": {},
   "outputs": [
    {
     "data": {
      "text/plain": [
       "' 25 min'"
      ]
     },
     "execution_count": 281,
     "metadata": {},
     "output_type": "execute_result"
    }
   ],
   "source": [
    "fooddf['total'][0]"
   ]
  },
  {
   "cell_type": "code",
   "execution_count": 361,
   "metadata": {},
   "outputs": [
    {
     "data": {
      "text/plain": [
       "30"
      ]
     },
     "execution_count": 361,
     "metadata": {},
     "output_type": "execute_result"
    }
   ],
   "source": [
    "tconv2(fooddf['total'][2952])"
   ]
  },
  {
   "cell_type": "code",
   "execution_count": null,
   "metadata": {},
   "outputs": [],
   "source": []
  },
  {
   "cell_type": "code",
   "execution_count": 225,
   "metadata": {},
   "outputs": [
    {
     "ename": "ValueError",
     "evalue": "could not convert string to float: ",
     "output_type": "error",
     "traceback": [
      "\u001b[0;31m---------------------------------------------------------------------------\u001b[0m",
      "\u001b[0;31mValueError\u001b[0m                                Traceback (most recent call last)",
      "\u001b[0;32m<ipython-input-225-4b374dcb8a1d>\u001b[0m in \u001b[0;36m<module>\u001b[0;34m\u001b[0m\n\u001b[0;32m----> 1\u001b[0;31m \u001b[0mfloat\u001b[0m\u001b[0;34m(\u001b[0m\u001b[0mre\u001b[0m\u001b[0;34m.\u001b[0m\u001b[0mfindall\u001b[0m\u001b[0;34m(\u001b[0m\u001b[0;34m'((\\d+)\\s+hr)?(\\d+)\\s*min'\u001b[0m\u001b[0;34m,\u001b[0m\u001b[0mff\u001b[0m\u001b[0;34m)\u001b[0m\u001b[0;34m[\u001b[0m\u001b[0;36m0\u001b[0m\u001b[0;34m]\u001b[0m\u001b[0;34m[\u001b[0m\u001b[0;36m1\u001b[0m\u001b[0;34m]\u001b[0m\u001b[0;34m)\u001b[0m\u001b[0;34m\u001b[0m\u001b[0;34m\u001b[0m\u001b[0m\n\u001b[0m\u001b[1;32m      2\u001b[0m \u001b[0;34m\u001b[0m\u001b[0m\n",
      "\u001b[0;31mValueError\u001b[0m: could not convert string to float: "
     ]
    }
   ],
   "source": [
    "float(re.findall('((\\d+)\\s+hr)?(\\d+)\\s*min',ff)[0][1])\n",
    "\n"
   ]
  },
  {
   "cell_type": "code",
   "execution_count": 255,
   "metadata": {},
   "outputs": [
    {
     "data": {
      "text/plain": [
       "['1']"
      ]
     },
     "execution_count": 255,
     "metadata": {},
     "output_type": "execute_result"
    }
   ],
   "source": [
    "re.findall('(\\d+)\\s+min','10 hr 1 min')"
   ]
  },
  {
   "cell_type": "code",
   "execution_count": 301,
   "metadata": {},
   "outputs": [],
   "source": [
    "def tconv2 (s):\n",
    "    m = re.findall('(\\d+)\\s+min',s)\n",
    "    if m == []: m = '0' \n",
    "    else : m = re.findall('(\\d+)\\s+min',s)[0]\n",
    "        \n",
    "    d = re.findall('(\\d+)\\s+day',s)\n",
    "    if d == []: d = '0' \n",
    "        \n",
    "    else: d = re.findall('(\\d+)\\s+day',s)[0]\n",
    "        \n",
    "    h = re.findall('(\\d+)\\s+hr',s)\n",
    "    if h == []: h = '0' \n",
    "    else:  h = re.findall('(\\d+)\\s+hr',s)[0]\n",
    "        \n",
    "    return int(d)*24*60+int(h)*60+int(m)"
   ]
  },
  {
   "cell_type": "code",
   "execution_count": 362,
   "metadata": {},
   "outputs": [],
   "source": [
    "fooddf['total'] = fooddf.total.map(lambda x : tconv2(x))"
   ]
  },
  {
   "cell_type": "code",
   "execution_count": 363,
   "metadata": {},
   "outputs": [
    {
     "data": {
      "text/plain": [
       "0       25\n",
       "1       40\n",
       "2       80\n",
       "3       40\n",
       "4       20\n",
       "        ..\n",
       "2948    35\n",
       "2949    80\n",
       "2950    35\n",
       "2951     0\n",
       "2952    30\n",
       "Name: total, Length: 2953, dtype: int64"
      ]
     },
     "execution_count": 363,
     "metadata": {},
     "output_type": "execute_result"
    }
   ],
   "source": [
    "fooddf.total"
   ]
  },
  {
   "cell_type": "code",
   "execution_count": 304,
   "metadata": {},
   "outputs": [
    {
     "data": {
      "text/plain": [
       "30"
      ]
     },
     "execution_count": 304,
     "metadata": {},
     "output_type": "execute_result"
    }
   ],
   "source": [
    "tconv2(fooddf['total'][2952])"
   ]
  },
  {
   "cell_type": "code",
   "execution_count": 364,
   "metadata": {},
   "outputs": [
    {
     "data": {
      "text/plain": [
       "30"
      ]
     },
     "execution_count": 364,
     "metadata": {},
     "output_type": "execute_result"
    }
   ],
   "source": [
    "fooddf['total'][2952]"
   ]
  },
  {
   "cell_type": "code",
   "execution_count": 307,
   "metadata": {},
   "outputs": [
    {
     "data": {
      "text/plain": [
       "30"
      ]
     },
     "execution_count": 307,
     "metadata": {},
     "output_type": "execute_result"
    }
   ],
   "source": [
    "tconv2(' 30 min')"
   ]
  },
  {
   "cell_type": "code",
   "execution_count": 365,
   "metadata": {},
   "outputs": [
    {
     "data": {
      "text/plain": [
       "Index(['ingredients', 'level', 'name', 'servings', 'total'], dtype='object')"
      ]
     },
     "execution_count": 365,
     "metadata": {},
     "output_type": "execute_result"
    }
   ],
   "source": [
    "fooddf.columns"
   ]
  },
  {
   "cell_type": "code",
   "execution_count": 370,
   "metadata": {},
   "outputs": [],
   "source": [
    "cfooddf = fooddf.copy()"
   ]
  },
  {
   "cell_type": "code",
   "execution_count": null,
   "metadata": {},
   "outputs": [],
   "source": [
    "fooddf"
   ]
  },
  {
   "cell_type": "code",
   "execution_count": 371,
   "metadata": {},
   "outputs": [
    {
     "data": {
      "text/html": [
       "<div>\n",
       "<style scoped>\n",
       "    .dataframe tbody tr th:only-of-type {\n",
       "        vertical-align: middle;\n",
       "    }\n",
       "\n",
       "    .dataframe tbody tr th {\n",
       "        vertical-align: top;\n",
       "    }\n",
       "\n",
       "    .dataframe thead th {\n",
       "        text-align: right;\n",
       "    }\n",
       "</style>\n",
       "<table border=\"1\" class=\"dataframe\">\n",
       "  <thead>\n",
       "    <tr style=\"text-align: right;\">\n",
       "      <th></th>\n",
       "      <th>ingredients</th>\n",
       "      <th>level</th>\n",
       "      <th>name</th>\n",
       "      <th>servings</th>\n",
       "      <th>total</th>\n",
       "    </tr>\n",
       "  </thead>\n",
       "  <tbody>\n",
       "    <tr>\n",
       "      <td>0</td>\n",
       "      <td>none</td>\n",
       "      <td>Easy</td>\n",
       "      <td>7-Layer Thai Chicken Dip</td>\n",
       "      <td>8</td>\n",
       "      <td>25</td>\n",
       "    </tr>\n",
       "    <tr>\n",
       "      <td>1</td>\n",
       "      <td>4 tablespoons (1/2 stick) unsalted butter,4 cl...</td>\n",
       "      <td>Easy</td>\n",
       "      <td>Healthy Garlic Shrimp and Quinoa Grits</td>\n",
       "      <td>4</td>\n",
       "      <td>40</td>\n",
       "    </tr>\n",
       "    <tr>\n",
       "      <td>2</td>\n",
       "      <td>1/4 cup unsalted butter,2 ripe Bosc pears, pee...</td>\n",
       "      <td>Easy</td>\n",
       "      <td>Ginger Pear Cake</td>\n",
       "      <td>12</td>\n",
       "      <td>80</td>\n",
       "    </tr>\n",
       "  </tbody>\n",
       "</table>\n",
       "</div>"
      ],
      "text/plain": [
       "                                         ingredients level  \\\n",
       "0                                               none  Easy   \n",
       "1  4 tablespoons (1/2 stick) unsalted butter,4 cl...  Easy   \n",
       "2  1/4 cup unsalted butter,2 ripe Bosc pears, pee...  Easy   \n",
       "\n",
       "                                     name  servings  total  \n",
       "0                7-Layer Thai Chicken Dip         8     25  \n",
       "1  Healthy Garlic Shrimp and Quinoa Grits         4     40  \n",
       "2                        Ginger Pear Cake        12     80  "
      ]
     },
     "execution_count": 371,
     "metadata": {},
     "output_type": "execute_result"
    }
   ],
   "source": [
    "cfooddf[:3]"
   ]
  },
  {
   "cell_type": "code",
   "execution_count": null,
   "metadata": {},
   "outputs": [],
   "source": []
  },
  {
   "cell_type": "code",
   "execution_count": 276,
   "metadata": {},
   "outputs": [],
   "source": []
  },
  {
   "cell_type": "code",
   "execution_count": 230,
   "metadata": {},
   "outputs": [
    {
     "data": {
      "text/plain": [
       "90"
      ]
     },
     "execution_count": 230,
     "metadata": {},
     "output_type": "execute_result"
    }
   ],
   "source": [
    "tconv(fooddf['total'][14])"
   ]
  },
  {
   "cell_type": "code",
   "execution_count": null,
   "metadata": {},
   "outputs": [],
   "source": []
  },
  {
   "cell_type": "code",
   "execution_count": 231,
   "metadata": {},
   "outputs": [
    {
     "data": {
      "text/plain": [
       "str"
      ]
     },
     "execution_count": 231,
     "metadata": {},
     "output_type": "execute_result"
    }
   ],
   "source": [
    "type(fooddf['total'][2])"
   ]
  },
  {
   "cell_type": "code",
   "execution_count": 232,
   "metadata": {},
   "outputs": [
    {
     "data": {
      "text/plain": [
       "80"
      ]
     },
     "execution_count": 232,
     "metadata": {},
     "output_type": "execute_result"
    }
   ],
   "source": [
    "tconv(fooddf['total'][2])"
   ]
  },
  {
   "cell_type": "code",
   "execution_count": 372,
   "metadata": {},
   "outputs": [
    {
     "data": {
      "text/plain": [
       "0       25\n",
       "1       40\n",
       "2       80\n",
       "3       40\n",
       "4       20\n",
       "        ..\n",
       "2948    35\n",
       "2949    80\n",
       "2950    35\n",
       "2951     0\n",
       "2952    30\n",
       "Name: total, Length: 2953, dtype: int64"
      ]
     },
     "execution_count": 372,
     "metadata": {},
     "output_type": "execute_result"
    }
   ],
   "source": [
    "fooddf['total']"
   ]
  },
  {
   "cell_type": "code",
   "execution_count": null,
   "metadata": {},
   "outputs": [],
   "source": []
  },
  {
   "cell_type": "code",
   "execution_count": null,
   "metadata": {},
   "outputs": [],
   "source": []
  },
  {
   "cell_type": "code",
   "execution_count": 137,
   "metadata": {},
   "outputs": [
    {
     "data": {
      "text/plain": [
       "0"
      ]
     },
     "execution_count": 137,
     "metadata": {},
     "output_type": "execute_result"
    }
   ],
   "source": [
    "np.sum(fooddf['total'].isna())"
   ]
  },
  {
   "cell_type": "code",
   "execution_count": 145,
   "metadata": {},
   "outputs": [
    {
     "data": {
      "text/html": [
       "<div>\n",
       "<style scoped>\n",
       "    .dataframe tbody tr th:only-of-type {\n",
       "        vertical-align: middle;\n",
       "    }\n",
       "\n",
       "    .dataframe tbody tr th {\n",
       "        vertical-align: top;\n",
       "    }\n",
       "\n",
       "    .dataframe thead th {\n",
       "        text-align: right;\n",
       "    }\n",
       "</style>\n",
       "<table border=\"1\" class=\"dataframe\">\n",
       "  <thead>\n",
       "    <tr style=\"text-align: right;\">\n",
       "      <th></th>\n",
       "      <th>ingredients</th>\n",
       "      <th>level</th>\n",
       "      <th>name</th>\n",
       "      <th>servings</th>\n",
       "      <th>total</th>\n",
       "    </tr>\n",
       "  </thead>\n",
       "  <tbody>\n",
       "  </tbody>\n",
       "</table>\n",
       "</div>"
      ],
      "text/plain": [
       "Empty DataFrame\n",
       "Columns: [ingredients, level, name, servings, total]\n",
       "Index: []"
      ]
     },
     "execution_count": 145,
     "metadata": {},
     "output_type": "execute_result"
    }
   ],
   "source": [
    "fooddf.loc[fooddf.total == np.nan]"
   ]
  },
  {
   "cell_type": "code",
   "execution_count": 346,
   "metadata": {},
   "outputs": [
    {
     "data": {
      "text/plain": [
       "Index(['ingredients', 'level', 'name', 'servings', 'total'], dtype='object')"
      ]
     },
     "execution_count": 346,
     "metadata": {},
     "output_type": "execute_result"
    }
   ],
   "source": [
    "fooddf.columns"
   ]
  },
  {
   "cell_type": "code",
   "execution_count": 373,
   "metadata": {},
   "outputs": [
    {
     "data": {
      "text/html": [
       "<div>\n",
       "<style scoped>\n",
       "    .dataframe tbody tr th:only-of-type {\n",
       "        vertical-align: middle;\n",
       "    }\n",
       "\n",
       "    .dataframe tbody tr th {\n",
       "        vertical-align: top;\n",
       "    }\n",
       "\n",
       "    .dataframe thead th {\n",
       "        text-align: right;\n",
       "    }\n",
       "</style>\n",
       "<table border=\"1\" class=\"dataframe\">\n",
       "  <thead>\n",
       "    <tr style=\"text-align: right;\">\n",
       "      <th></th>\n",
       "      <th>name</th>\n",
       "      <th>review</th>\n",
       "      <th>rating</th>\n",
       "    </tr>\n",
       "  </thead>\n",
       "  <tbody>\n",
       "    <tr>\n",
       "      <td>0</td>\n",
       "      <td>Cabbage Soup</td>\n",
       "      <td>Great soup. Followed the recipe the first time...</td>\n",
       "      <td>4.4</td>\n",
       "    </tr>\n",
       "    <tr>\n",
       "      <td>1</td>\n",
       "      <td>Cabbage Soup</td>\n",
       "      <td>To my family it was not very flavorful.</td>\n",
       "      <td>4.4</td>\n",
       "    </tr>\n",
       "  </tbody>\n",
       "</table>\n",
       "</div>"
      ],
      "text/plain": [
       "           name                                             review rating\n",
       "0  Cabbage Soup  Great soup. Followed the recipe the first time...   4.4 \n",
       "1  Cabbage Soup            To my family it was not very flavorful.   4.4 "
      ]
     },
     "execution_count": 373,
     "metadata": {},
     "output_type": "execute_result"
    }
   ],
   "source": [
    "crates[:2]"
   ]
  },
  {
   "cell_type": "code",
   "execution_count": 374,
   "metadata": {},
   "outputs": [
    {
     "data": {
      "text/html": [
       "<div>\n",
       "<style scoped>\n",
       "    .dataframe tbody tr th:only-of-type {\n",
       "        vertical-align: middle;\n",
       "    }\n",
       "\n",
       "    .dataframe tbody tr th {\n",
       "        vertical-align: top;\n",
       "    }\n",
       "\n",
       "    .dataframe thead th {\n",
       "        text-align: right;\n",
       "    }\n",
       "</style>\n",
       "<table border=\"1\" class=\"dataframe\">\n",
       "  <thead>\n",
       "    <tr style=\"text-align: right;\">\n",
       "      <th></th>\n",
       "      <th>name</th>\n",
       "      <th>review</th>\n",
       "      <th>rating</th>\n",
       "    </tr>\n",
       "  </thead>\n",
       "  <tbody>\n",
       "    <tr>\n",
       "      <td>0</td>\n",
       "      <td>Cabbage Soup</td>\n",
       "      <td>Great soup. Followed the recipe the first time...</td>\n",
       "      <td>4.4</td>\n",
       "    </tr>\n",
       "    <tr>\n",
       "      <td>1</td>\n",
       "      <td>Cabbage Soup</td>\n",
       "      <td>To my family it was not very flavorful.</td>\n",
       "      <td>4.4</td>\n",
       "    </tr>\n",
       "    <tr>\n",
       "      <td>2</td>\n",
       "      <td>Cabbage Soup</td>\n",
       "      <td>Great soup even better with kielbasa</td>\n",
       "      <td>4.4</td>\n",
       "    </tr>\n",
       "    <tr>\n",
       "      <td>3</td>\n",
       "      <td>Cabbage Soup</td>\n",
       "      <td>Great soup!</td>\n",
       "      <td>4.4</td>\n",
       "    </tr>\n",
       "    <tr>\n",
       "      <td>4</td>\n",
       "      <td>Cabbage Soup</td>\n",
       "      <td>This was fantastic! Cooking the veggies added ...</td>\n",
       "      <td>4.4</td>\n",
       "    </tr>\n",
       "    <tr>\n",
       "      <td>5</td>\n",
       "      <td>Cabbage Soup</td>\n",
       "      <td>hardy and full of flavor</td>\n",
       "      <td>4.4</td>\n",
       "    </tr>\n",
       "    <tr>\n",
       "      <td>6</td>\n",
       "      <td>Cabbage Soup</td>\n",
       "      <td>Loved. So good. Thanks!</td>\n",
       "      <td>4.4</td>\n",
       "    </tr>\n",
       "    <tr>\n",
       "      <td>7</td>\n",
       "      <td>Cabbage Soup</td>\n",
       "      <td>My family LOVED it!  I put all veggies in the ...</td>\n",
       "      <td>4.4</td>\n",
       "    </tr>\n",
       "    <tr>\n",
       "      <td>8</td>\n",
       "      <td>Cabbage Soup</td>\n",
       "      <td>Rename to Chop. chop Soup. Add sweet Italian s...</td>\n",
       "      <td>4.4</td>\n",
       "    </tr>\n",
       "    <tr>\n",
       "      <td>9</td>\n",
       "      <td>Cabbage Soup</td>\n",
       "      <td>Delicious! Because of all the shredding, prep ...</td>\n",
       "      <td>4.4</td>\n",
       "    </tr>\n",
       "  </tbody>\n",
       "</table>\n",
       "</div>"
      ],
      "text/plain": [
       "           name                                             review rating\n",
       "0  Cabbage Soup  Great soup. Followed the recipe the first time...   4.4 \n",
       "1  Cabbage Soup            To my family it was not very flavorful.   4.4 \n",
       "2  Cabbage Soup               Great soup even better with kielbasa   4.4 \n",
       "3  Cabbage Soup                                        Great soup!   4.4 \n",
       "4  Cabbage Soup  This was fantastic! Cooking the veggies added ...   4.4 \n",
       "5  Cabbage Soup                           hardy and full of flavor   4.4 \n",
       "6  Cabbage Soup                            Loved. So good. Thanks!   4.4 \n",
       "7  Cabbage Soup  My family LOVED it!  I put all veggies in the ...   4.4 \n",
       "8  Cabbage Soup  Rename to Chop. chop Soup. Add sweet Italian s...   4.4 \n",
       "9  Cabbage Soup  Delicious! Because of all the shredding, prep ...   4.4 "
      ]
     },
     "execution_count": 374,
     "metadata": {},
     "output_type": "execute_result"
    }
   ],
   "source": [
    "crates[crates.name=='Cabbage Soup']"
   ]
  },
  {
   "cell_type": "code",
   "execution_count": 375,
   "metadata": {},
   "outputs": [
    {
     "data": {
      "text/html": [
       "<div>\n",
       "<style scoped>\n",
       "    .dataframe tbody tr th:only-of-type {\n",
       "        vertical-align: middle;\n",
       "    }\n",
       "\n",
       "    .dataframe tbody tr th {\n",
       "        vertical-align: top;\n",
       "    }\n",
       "\n",
       "    .dataframe thead th {\n",
       "        text-align: right;\n",
       "    }\n",
       "</style>\n",
       "<table border=\"1\" class=\"dataframe\">\n",
       "  <thead>\n",
       "    <tr style=\"text-align: right;\">\n",
       "      <th></th>\n",
       "      <th>ingredients</th>\n",
       "      <th>level</th>\n",
       "      <th>name</th>\n",
       "      <th>servings</th>\n",
       "      <th>total</th>\n",
       "    </tr>\n",
       "  </thead>\n",
       "  <tbody>\n",
       "    <tr>\n",
       "      <td>1298</td>\n",
       "      <td>2 tablespoons olive oil,8 ounces sliced button...</td>\n",
       "      <td>Easy</td>\n",
       "      <td>Cabbage Soup</td>\n",
       "      <td>10</td>\n",
       "      <td>0</td>\n",
       "    </tr>\n",
       "  </tbody>\n",
       "</table>\n",
       "</div>"
      ],
      "text/plain": [
       "                                            ingredients level          name  \\\n",
       "1298  2 tablespoons olive oil,8 ounces sliced button...  Easy  Cabbage Soup   \n",
       "\n",
       "      servings  total  \n",
       "1298        10      0  "
      ]
     },
     "execution_count": 375,
     "metadata": {},
     "output_type": "execute_result"
    }
   ],
   "source": [
    "fooddf[fooddf['name']=='Cabbage Soup']"
   ]
  },
  {
   "cell_type": "code",
   "execution_count": 376,
   "metadata": {},
   "outputs": [
    {
     "data": {
      "text/html": [
       "<div>\n",
       "<style scoped>\n",
       "    .dataframe tbody tr th:only-of-type {\n",
       "        vertical-align: middle;\n",
       "    }\n",
       "\n",
       "    .dataframe tbody tr th {\n",
       "        vertical-align: top;\n",
       "    }\n",
       "\n",
       "    .dataframe thead th {\n",
       "        text-align: right;\n",
       "    }\n",
       "</style>\n",
       "<table border=\"1\" class=\"dataframe\">\n",
       "  <thead>\n",
       "    <tr style=\"text-align: right;\">\n",
       "      <th></th>\n",
       "      <th>ingredients</th>\n",
       "      <th>level</th>\n",
       "      <th>name</th>\n",
       "      <th>servings</th>\n",
       "      <th>total</th>\n",
       "      <th>review</th>\n",
       "      <th>rating</th>\n",
       "    </tr>\n",
       "  </thead>\n",
       "  <tbody>\n",
       "    <tr>\n",
       "      <td>0</td>\n",
       "      <td>2 large skinless, boneless chicken breasts (ab...</td>\n",
       "      <td>Easy</td>\n",
       "      <td>Cajun Chicken with Pinto Beans</td>\n",
       "      <td>4</td>\n",
       "      <td>35</td>\n",
       "      <td>Instant family favorite!</td>\n",
       "      <td>5</td>\n",
       "    </tr>\n",
       "    <tr>\n",
       "      <td>1</td>\n",
       "      <td>2 large skinless, boneless chicken breasts (ab...</td>\n",
       "      <td>Easy</td>\n",
       "      <td>Cajun Chicken with Pinto Beans</td>\n",
       "      <td>4</td>\n",
       "      <td>35</td>\n",
       "      <td>Absolutely Fantastic! One of my favorites for ...</td>\n",
       "      <td>5</td>\n",
       "    </tr>\n",
       "    <tr>\n",
       "      <td>2</td>\n",
       "      <td>2 large skinless, boneless chicken breasts (ab...</td>\n",
       "      <td>Easy</td>\n",
       "      <td>Cajun Chicken with Pinto Beans</td>\n",
       "      <td>4</td>\n",
       "      <td>35</td>\n",
       "      <td>Fantastic. Became an instant family favorite. ...</td>\n",
       "      <td>5</td>\n",
       "    </tr>\n",
       "    <tr>\n",
       "      <td>3</td>\n",
       "      <td>2 large skinless, boneless chicken breasts (ab...</td>\n",
       "      <td>Easy</td>\n",
       "      <td>Cajun Chicken with Pinto Beans</td>\n",
       "      <td>4</td>\n",
       "      <td>35</td>\n",
       "      <td>This one's a keeper for sure! My toddler even ...</td>\n",
       "      <td>5</td>\n",
       "    </tr>\n",
       "    <tr>\n",
       "      <td>4</td>\n",
       "      <td>2 large skinless, boneless chicken breasts (ab...</td>\n",
       "      <td>Easy</td>\n",
       "      <td>Cajun Chicken with Pinto Beans</td>\n",
       "      <td>4</td>\n",
       "      <td>35</td>\n",
       "      <td>didn't pour off any of the bacon grease in the...</td>\n",
       "      <td>5</td>\n",
       "    </tr>\n",
       "    <tr>\n",
       "      <td>...</td>\n",
       "      <td>...</td>\n",
       "      <td>...</td>\n",
       "      <td>...</td>\n",
       "      <td>...</td>\n",
       "      <td>...</td>\n",
       "      <td>...</td>\n",
       "      <td>...</td>\n",
       "    </tr>\n",
       "    <tr>\n",
       "      <td>65</td>\n",
       "      <td>2 tablespoons olive oil,8 ounces sliced button...</td>\n",
       "      <td>Easy</td>\n",
       "      <td>Cabbage Soup</td>\n",
       "      <td>10</td>\n",
       "      <td>0</td>\n",
       "      <td>hardy and full of flavor</td>\n",
       "      <td>4.4</td>\n",
       "    </tr>\n",
       "    <tr>\n",
       "      <td>66</td>\n",
       "      <td>2 tablespoons olive oil,8 ounces sliced button...</td>\n",
       "      <td>Easy</td>\n",
       "      <td>Cabbage Soup</td>\n",
       "      <td>10</td>\n",
       "      <td>0</td>\n",
       "      <td>Loved. So good. Thanks!</td>\n",
       "      <td>4.4</td>\n",
       "    </tr>\n",
       "    <tr>\n",
       "      <td>67</td>\n",
       "      <td>2 tablespoons olive oil,8 ounces sliced button...</td>\n",
       "      <td>Easy</td>\n",
       "      <td>Cabbage Soup</td>\n",
       "      <td>10</td>\n",
       "      <td>0</td>\n",
       "      <td>My family LOVED it!  I put all veggies in the ...</td>\n",
       "      <td>4.4</td>\n",
       "    </tr>\n",
       "    <tr>\n",
       "      <td>68</td>\n",
       "      <td>2 tablespoons olive oil,8 ounces sliced button...</td>\n",
       "      <td>Easy</td>\n",
       "      <td>Cabbage Soup</td>\n",
       "      <td>10</td>\n",
       "      <td>0</td>\n",
       "      <td>Rename to Chop. chop Soup. Add sweet Italian s...</td>\n",
       "      <td>4.4</td>\n",
       "    </tr>\n",
       "    <tr>\n",
       "      <td>69</td>\n",
       "      <td>2 tablespoons olive oil,8 ounces sliced button...</td>\n",
       "      <td>Easy</td>\n",
       "      <td>Cabbage Soup</td>\n",
       "      <td>10</td>\n",
       "      <td>0</td>\n",
       "      <td>Delicious! Because of all the shredding, prep ...</td>\n",
       "      <td>4.4</td>\n",
       "    </tr>\n",
       "  </tbody>\n",
       "</table>\n",
       "<p>70 rows × 7 columns</p>\n",
       "</div>"
      ],
      "text/plain": [
       "                                          ingredients level  \\\n",
       "0   2 large skinless, boneless chicken breasts (ab...  Easy   \n",
       "1   2 large skinless, boneless chicken breasts (ab...  Easy   \n",
       "2   2 large skinless, boneless chicken breasts (ab...  Easy   \n",
       "3   2 large skinless, boneless chicken breasts (ab...  Easy   \n",
       "4   2 large skinless, boneless chicken breasts (ab...  Easy   \n",
       "..                                                ...   ...   \n",
       "65  2 tablespoons olive oil,8 ounces sliced button...  Easy   \n",
       "66  2 tablespoons olive oil,8 ounces sliced button...  Easy   \n",
       "67  2 tablespoons olive oil,8 ounces sliced button...  Easy   \n",
       "68  2 tablespoons olive oil,8 ounces sliced button...  Easy   \n",
       "69  2 tablespoons olive oil,8 ounces sliced button...  Easy   \n",
       "\n",
       "                              name  servings  total  \\\n",
       "0   Cajun Chicken with Pinto Beans         4     35   \n",
       "1   Cajun Chicken with Pinto Beans         4     35   \n",
       "2   Cajun Chicken with Pinto Beans         4     35   \n",
       "3   Cajun Chicken with Pinto Beans         4     35   \n",
       "4   Cajun Chicken with Pinto Beans         4     35   \n",
       "..                             ...       ...    ...   \n",
       "65                    Cabbage Soup        10      0   \n",
       "66                    Cabbage Soup        10      0   \n",
       "67                    Cabbage Soup        10      0   \n",
       "68                    Cabbage Soup        10      0   \n",
       "69                    Cabbage Soup        10      0   \n",
       "\n",
       "                                               review rating  \n",
       "0                            Instant family favorite!     5   \n",
       "1   Absolutely Fantastic! One of my favorites for ...     5   \n",
       "2   Fantastic. Became an instant family favorite. ...     5   \n",
       "3   This one's a keeper for sure! My toddler even ...     5   \n",
       "4   didn't pour off any of the bacon grease in the...     5   \n",
       "..                                                ...    ...  \n",
       "65                           hardy and full of flavor   4.4   \n",
       "66                            Loved. So good. Thanks!   4.4   \n",
       "67  My family LOVED it!  I put all veggies in the ...   4.4   \n",
       "68  Rename to Chop. chop Soup. Add sweet Italian s...   4.4   \n",
       "69  Delicious! Because of all the shredding, prep ...   4.4   \n",
       "\n",
       "[70 rows x 7 columns]"
      ]
     },
     "execution_count": 376,
     "metadata": {},
     "output_type": "execute_result"
    }
   ],
   "source": [
    "pd.merge(fooddf,crates,on = 'name')\n",
    "# pd.merge(df3, df4, on ='col2')"
   ]
  },
  {
   "cell_type": "code",
   "execution_count": 383,
   "metadata": {},
   "outputs": [
    {
     "data": {
      "text/plain": [
       "['reviewsj.csv',\n",
       " 'reviewsk.csv',\n",
       " 'reviewr.csv',\n",
       " 'reviewsi.csv',\n",
       " 'reviewsh.csv',\n",
       " 'reviews.csv',\n",
       " 'reviewsl.csv',\n",
       " 'reviewsm.csv',\n",
       " 'reviewsn.csv',\n",
       " 'Untitled.ipynb',\n",
       " 'food.csv',\n",
       " '.ipynb_checkpoints',\n",
       " 'reviewst.csv',\n",
       " 'reviewsc.csv',\n",
       " 'reviewsb.csv',\n",
       " 'reviewse.csv',\n",
       " 'reviewss.csv',\n",
       " 'reviewsd.csv',\n",
       " 'reviewsf.csv',\n",
       " 'reviewsp.csv',\n",
       " 'reviewsg.csv']"
      ]
     },
     "execution_count": 383,
     "metadata": {},
     "output_type": "execute_result"
    }
   ],
   "source": [
    "os.listdir()"
   ]
  },
  {
   "cell_type": "code",
   "execution_count": 406,
   "metadata": {},
   "outputs": [],
   "source": [
    "erates = pd.read_csv('reviewse.csv',names=['name','review','rating'])\n",
    "frates = pd.read_csv('reviewsf.csv',names=['name','review','rating'])\n",
    "grates = pd.read_csv('reviewsg.csv',names=['name','review','rating'])\n",
    "hrates = pd.read_csv('reviewsh.csv',names=['name','review','rating'])\n",
    "irates = pd.read_csv('reviewsi.csv',names=['name','review','rating'])\n",
    "jrates = pd.read_csv('reviewsj.csv',names=['name','review','rating'])\n",
    "krates = pd.read_csv('reviewsk.csv',names=['name','review','rating'])\n",
    "lrates = pd.read_csv('reviewsl.csv',names=['name','review','rating'])\n",
    "mrates = pd.read_csv('reviewsm.csv',names=['name','review','rating'])\n",
    "nrates = pd.read_csv('reviewsn.csv',names=['name','review','rating'])\n",
    "prates = pd.read_csv('reviewsp.csv',names=['name','review','rating'])\n",
    "rrates = pd.read_csv('reviewr.csv',names=['name','review','rating'])\n",
    "srates = pd.read_csv('reviewss.csv',names=['name','review','rating'])\n",
    "trates = pd.read_csv('reviewst.csv',names=['name','review','rating'])\n",
    "crates = pd.read_csv('reviewsc.csv',names=['name','review','rating'])\n",
    "brates = pd.read_csv('reviewsb.csv',names=['name','review','rating'])\n",
    "\n",
    "\n",
    "\n",
    "\n"
   ]
  },
  {
   "cell_type": "code",
   "execution_count": 407,
   "metadata": {},
   "outputs": [],
   "source": [
    "allrates = pd.concat([brates,crates],axis = 0)"
   ]
  },
  {
   "cell_type": "code",
   "execution_count": 433,
   "metadata": {},
   "outputs": [
    {
     "data": {
      "text/plain": [
       "(530, 3)"
      ]
     },
     "execution_count": 433,
     "metadata": {},
     "output_type": "execute_result"
    }
   ],
   "source": [
    "allrates = pd.concat([allrates,trates],axis = 0)\n",
    "allrates.shape"
   ]
  },
  {
   "cell_type": "code",
   "execution_count": 413,
   "metadata": {},
   "outputs": [
    {
     "data": {
      "text/plain": [
       "(263, 3)"
      ]
     },
     "execution_count": 413,
     "metadata": {},
     "output_type": "execute_result"
    }
   ],
   "source": [
    "allrates.shape"
   ]
  },
  {
   "cell_type": "code",
   "execution_count": 412,
   "metadata": {},
   "outputs": [
    {
     "data": {
      "text/plain": [
       "(20, 3)"
      ]
     },
     "execution_count": 412,
     "metadata": {},
     "output_type": "execute_result"
    }
   ],
   "source": [
    "drates.shape"
   ]
  },
  {
   "cell_type": "code",
   "execution_count": 435,
   "metadata": {},
   "outputs": [],
   "source": [
    "allrates.rating = allrates.rating.str.replace('of 5 stars','')"
   ]
  },
  {
   "cell_type": "code",
   "execution_count": null,
   "metadata": {},
   "outputs": [],
   "source": []
  },
  {
   "cell_type": "code",
   "execution_count": 439,
   "metadata": {},
   "outputs": [],
   "source": [
    "allrates.rating = allrates.rating.astype('float')"
   ]
  },
  {
   "cell_type": "code",
   "execution_count": 381,
   "metadata": {},
   "outputs": [
    {
     "data": {
      "text/html": [
       "<div>\n",
       "<style scoped>\n",
       "    .dataframe tbody tr th:only-of-type {\n",
       "        vertical-align: middle;\n",
       "    }\n",
       "\n",
       "    .dataframe tbody tr th {\n",
       "        vertical-align: top;\n",
       "    }\n",
       "\n",
       "    .dataframe thead th {\n",
       "        text-align: right;\n",
       "    }\n",
       "</style>\n",
       "<table border=\"1\" class=\"dataframe\">\n",
       "  <thead>\n",
       "    <tr style=\"text-align: right;\">\n",
       "      <th></th>\n",
       "      <th>name</th>\n",
       "      <th>review</th>\n",
       "      <th>rating</th>\n",
       "    </tr>\n",
       "  </thead>\n",
       "  <tbody>\n",
       "    <tr>\n",
       "      <td>0</td>\n",
       "      <td>Cabbage Soup</td>\n",
       "      <td>Great soup. Followed the recipe the first time...</td>\n",
       "      <td>4.4</td>\n",
       "    </tr>\n",
       "    <tr>\n",
       "      <td>1</td>\n",
       "      <td>Cabbage Soup</td>\n",
       "      <td>To my family it was not very flavorful.</td>\n",
       "      <td>4.4</td>\n",
       "    </tr>\n",
       "    <tr>\n",
       "      <td>2</td>\n",
       "      <td>Cabbage Soup</td>\n",
       "      <td>Great soup even better with kielbasa</td>\n",
       "      <td>4.4</td>\n",
       "    </tr>\n",
       "    <tr>\n",
       "      <td>3</td>\n",
       "      <td>Cabbage Soup</td>\n",
       "      <td>Great soup!</td>\n",
       "      <td>4.4</td>\n",
       "    </tr>\n",
       "    <tr>\n",
       "      <td>4</td>\n",
       "      <td>Cabbage Soup</td>\n",
       "      <td>This was fantastic! Cooking the veggies added ...</td>\n",
       "      <td>4.4</td>\n",
       "    </tr>\n",
       "    <tr>\n",
       "      <td>...</td>\n",
       "      <td>...</td>\n",
       "      <td>...</td>\n",
       "      <td>...</td>\n",
       "    </tr>\n",
       "    <tr>\n",
       "      <td>15</td>\n",
       "      <td>Detroit-Style Pizza</td>\n",
       "      <td>I've been eating Detroit pizza for years. This...</td>\n",
       "      <td>2.5</td>\n",
       "    </tr>\n",
       "    <tr>\n",
       "      <td>16</td>\n",
       "      <td>Detroit-Style Pizza</td>\n",
       "      <td>We lived in Detroit for 30 years and had MANY,...</td>\n",
       "      <td>2.5</td>\n",
       "    </tr>\n",
       "    <tr>\n",
       "      <td>17</td>\n",
       "      <td>Detroit-Style Pizza</td>\n",
       "      <td>I grew up in MIchigan and lived in Detroit for...</td>\n",
       "      <td>2.5</td>\n",
       "    </tr>\n",
       "    <tr>\n",
       "      <td>18</td>\n",
       "      <td>Detroit-Style Pizza</td>\n",
       "      <td>Does sound something like making a sort of bre...</td>\n",
       "      <td>2.5</td>\n",
       "    </tr>\n",
       "    <tr>\n",
       "      <td>19</td>\n",
       "      <td>Detroit-Style Pizza</td>\n",
       "      <td>You’re a chef and don’t know how to spell boui...</td>\n",
       "      <td>2.5</td>\n",
       "    </tr>\n",
       "  </tbody>\n",
       "</table>\n",
       "<p>107 rows × 3 columns</p>\n",
       "</div>"
      ],
      "text/plain": [
       "                   name                                             review  \\\n",
       "0          Cabbage Soup  Great soup. Followed the recipe the first time...   \n",
       "1          Cabbage Soup            To my family it was not very flavorful.   \n",
       "2          Cabbage Soup               Great soup even better with kielbasa   \n",
       "3          Cabbage Soup                                        Great soup!   \n",
       "4          Cabbage Soup  This was fantastic! Cooking the veggies added ...   \n",
       "..                  ...                                                ...   \n",
       "15  Detroit-Style Pizza  I've been eating Detroit pizza for years. This...   \n",
       "16  Detroit-Style Pizza  We lived in Detroit for 30 years and had MANY,...   \n",
       "17  Detroit-Style Pizza  I grew up in MIchigan and lived in Detroit for...   \n",
       "18  Detroit-Style Pizza  Does sound something like making a sort of bre...   \n",
       "19  Detroit-Style Pizza  You’re a chef and don’t know how to spell boui...   \n",
       "\n",
       "   rating  \n",
       "0    4.4   \n",
       "1    4.4   \n",
       "2    4.4   \n",
       "3    4.4   \n",
       "4    4.4   \n",
       "..    ...  \n",
       "15   2.5   \n",
       "16   2.5   \n",
       "17   2.5   \n",
       "18   2.5   \n",
       "19   2.5   \n",
       "\n",
       "[107 rows x 3 columns]"
      ]
     },
     "execution_count": 381,
     "metadata": {},
     "output_type": "execute_result"
    }
   ],
   "source": [
    "allrates"
   ]
  },
  {
   "cell_type": "code",
   "execution_count": 443,
   "metadata": {},
   "outputs": [],
   "source": [
    "fdf = pd.merge(fooddf,allrates,on = 'name',how='outer')\n"
   ]
  },
  {
   "cell_type": "code",
   "execution_count": 445,
   "metadata": {},
   "outputs": [],
   "source": [
    "fdf.to_csv('fdf.csv')"
   ]
  },
  {
   "cell_type": "code",
   "execution_count": 446,
   "metadata": {},
   "outputs": [
    {
     "data": {
      "text/plain": [
       "(3444, 7)"
      ]
     },
     "execution_count": 446,
     "metadata": {},
     "output_type": "execute_result"
    }
   ],
   "source": [
    "fdf.shape"
   ]
  },
  {
   "cell_type": "code",
   "execution_count": null,
   "metadata": {},
   "outputs": [],
   "source": []
  },
  {
   "cell_type": "code",
   "execution_count": null,
   "metadata": {},
   "outputs": [],
   "source": []
  },
  {
   "cell_type": "code",
   "execution_count": null,
   "metadata": {},
   "outputs": [],
   "source": []
  },
  {
   "cell_type": "code",
   "execution_count": 495,
   "metadata": {},
   "outputs": [
    {
     "data": {
      "text/plain": [
       "(166, 7)"
      ]
     },
     "execution_count": 495,
     "metadata": {},
     "output_type": "execute_result"
    }
   ],
   "source": [
    "fdf[fdf.ingredients.str.find('jalapeno')!=-1].shape"
   ]
  },
  {
   "cell_type": "code",
   "execution_count": 493,
   "metadata": {},
   "outputs": [
    {
     "data": {
      "text/html": [
       "<div>\n",
       "<style scoped>\n",
       "    .dataframe tbody tr th:only-of-type {\n",
       "        vertical-align: middle;\n",
       "    }\n",
       "\n",
       "    .dataframe tbody tr th {\n",
       "        vertical-align: top;\n",
       "    }\n",
       "\n",
       "    .dataframe thead th {\n",
       "        text-align: right;\n",
       "    }\n",
       "</style>\n",
       "<table border=\"1\" class=\"dataframe\">\n",
       "  <thead>\n",
       "    <tr style=\"text-align: right;\">\n",
       "      <th></th>\n",
       "      <th>ingredients</th>\n",
       "      <th>level</th>\n",
       "      <th>name</th>\n",
       "      <th>servings</th>\n",
       "      <th>total</th>\n",
       "      <th>review</th>\n",
       "      <th>rating</th>\n",
       "    </tr>\n",
       "  </thead>\n",
       "  <tbody>\n",
       "  </tbody>\n",
       "</table>\n",
       "</div>"
      ],
      "text/plain": [
       "Empty DataFrame\n",
       "Columns: [ingredients, level, name, servings, total, review, rating]\n",
       "Index: []"
      ]
     },
     "execution_count": 493,
     "metadata": {},
     "output_type": "execute_result"
    }
   ],
   "source": [
    "spice = ['salt']\n",
    "\n",
    "fdf[(fdf['ingredients'].isin(spice))]\n"
   ]
  },
  {
   "cell_type": "code",
   "execution_count": 489,
   "metadata": {},
   "outputs": [],
   "source": [
    "fdf.ingredients = fdf.ingredients.str.lower()"
   ]
  },
  {
   "cell_type": "code",
   "execution_count": 490,
   "metadata": {},
   "outputs": [
    {
     "data": {
      "text/plain": [
       "0                                                    none\n",
       "1       4 tablespoons (1/2 stick) unsalted butter,4 cl...\n",
       "2       1/4 cup unsalted butter,2 ripe bosc pears, pee...\n",
       "3       4 8-ounce skinless, boneless chicken breasts,k...\n",
       "4                                                    none\n",
       "                              ...                        \n",
       "3439                                                  NaN\n",
       "3440                                                  NaN\n",
       "3441                                                  NaN\n",
       "3442                                                  NaN\n",
       "3443                                                  NaN\n",
       "Name: ingredients, Length: 3444, dtype: object"
      ]
     },
     "execution_count": 490,
     "metadata": {},
     "output_type": "execute_result"
    }
   ],
   "source": [
    "fdf.ingredients"
   ]
  },
  {
   "cell_type": "code",
   "execution_count": 496,
   "metadata": {},
   "outputs": [],
   "source": [
    "import pandas as pd\n",
    "import numpy as np\n",
    "from matplotlib import pyplot as plt\n",
    "plt.style.use('ggplot')"
   ]
  },
  {
   "cell_type": "code",
   "execution_count": 497,
   "metadata": {},
   "outputs": [],
   "source": [
    "%matplotlib inline"
   ]
  },
  {
   "cell_type": "code",
   "execution_count": 514,
   "metadata": {},
   "outputs": [
    {
     "data": {
      "text/plain": [
       "Text(0.5, 1.0, 'Histogram of ratings')"
      ]
     },
     "execution_count": 514,
     "metadata": {},
     "output_type": "execute_result"
    },
    {
     "data": {
      "image/png": "[encoded data removed]",
      "text/plain": [
       "<Figure size 432x288 with 1 Axes>"
      ]
     },
     "metadata": {
      "needs_background": "light"
     },
     "output_type": "display_data"
    }
   ],
   "source": [
    "plt.hist(fdf['rating'],orientation='horizontal',density=False,color='blue',bins=20,range=(2.5,5.0))\n",
    "plt.xlabel('Count')\n",
    "plt.ylabel('Rating')\n",
    "plt.title('Histogram of ratings', fontsize=20)"
   ]
  },
  {
   "cell_type": "code",
   "execution_count": 575,
   "metadata": {},
   "outputs": [
    {
     "data": {
      "text/plain": [
       "Text(0.5, 1.0, 'If recipe is good people submit ratings')"
      ]
     },
     "execution_count": 575,
     "metadata": {},
     "output_type": "execute_result"
    },
    {
     "data": {
      "image/png": "[encoded data removed]",
      "text/plain": [
       "<Figure size 432x288 with 1 Axes>"
      ]
     },
     "metadata": {
      "needs_background": "light"
     },
     "output_type": "display_data"
    }
   ],
   "source": [
    "plt.hist(fdf['rating'],orientation='horizontal',density=False,color='blue',bins=20)\n",
    "plt.xlabel('Count')\n",
    "plt.ylabel('Rating')\n",
    "plt.title('If recipe is good people submit ratings', fontsize=10)"
   ]
  },
  {
   "cell_type": "code",
   "execution_count": 577,
   "metadata": {},
   "outputs": [
    {
     "data": {
      "text/plain": [
       "Text(0.5, 1.0, 'Histogram of Prep Time')"
      ]
     },
     "execution_count": 577,
     "metadata": {},
     "output_type": "execute_result"
    },
    {
     "data": {
      "image/png": "[encoded data removed]",
      "text/plain": [
       "<Figure size 432x288 with 1 Axes>"
      ]
     },
     "metadata": {
      "needs_background": "light"
     },
     "output_type": "display_data"
    }
   ],
   "source": [
    "plt.hist(fdf['total'],orientation='horizontal',density=False,color='orange',bins=20)\n",
    "plt.xlabel('Count')\n",
    "plt.ylabel('Prep time (minutes)')\n",
    "plt.title('Histogram of Prep Time', fontsize=20)"
   ]
  },
  {
   "cell_type": "code",
   "execution_count": 530,
   "metadata": {},
   "outputs": [
    {
     "data": {
      "text/plain": [
       "Text(0.5, 1.0, 'Histogram of Preparaton Time')"
      ]
     },
     "execution_count": 530,
     "metadata": {},
     "output_type": "execute_result"
    },
    {
     "data": {
      "image/png": "[encoded data removed]",
      "text/plain": [
       "<Figure size 432x288 with 1 Axes>"
      ]
     },
     "metadata": {
      "needs_background": "light"
     },
     "output_type": "display_data"
    }
   ],
   "source": [
    "plt.hist(fdf.loc[fdf['total']>0,'total'],orientation='horizontal',density=False,color='orange',bins=100,range=(0,300))\n",
    "plt.xlabel('Count')\n",
    "plt.ylabel('Total Preparation Time')\n",
    "plt.title('Histogram of Preparaton Time', fontsize=20)"
   ]
  },
  {
   "cell_type": "code",
   "execution_count": 544,
   "metadata": {},
   "outputs": [
    {
     "data": {
      "text/plain": [
       "Text(0.5, 1.0, 'Short prep time with higher rating')"
      ]
     },
     "execution_count": 544,
     "metadata": {},
     "output_type": "execute_result"
    },
    {
     "data": {
      "image/png": "[encoded data removed]",
      "text/plain": [
       "<Figure size 432x288 with 1 Axes>"
      ]
     },
     "metadata": {
      "needs_background": "light"
     },
     "output_type": "display_data"
    }
   ],
   "source": [
    "fdf1  = fdf[['rating','total']].dropna()\n",
    "plt.scatter(fdf1['rating'],fdf1['total'])\n",
    "plt.xlabel('Rating')\n",
    "plt.ylabel('Totaltime')\n",
    "plt.title('Short prep time with higher rating', fontsize=15)"
   ]
  },
  {
   "cell_type": "code",
   "execution_count": 650,
   "metadata": {},
   "outputs": [
    {
     "data": {
      "text/plain": [
       "Text(0.5, 1.0, 'Short prep time with higher rating')"
      ]
     },
     "execution_count": 650,
     "metadata": {},
     "output_type": "execute_result"
    },
    {
     "data": {
      "image/png": "[encoded data removed]",
      "text/plain": [
       "<Figure size 432x288 with 1 Axes>"
      ]
     },
     "metadata": {
      "needs_background": "light"
     },
     "output_type": "display_data"
    }
   ],
   "source": [
    "fdf2  = fdf[['servings','total']].dropna()\n",
    "\n",
    "plt.scatter(fdf2['servings'],fdf2['total'])\n",
    "plt.xlabel('Servings')\n",
    "plt.ylabel('Totaltime')\n",
    "plt.title('Short prep time with higher rating', fontsize=15)"
   ]
  },
  {
   "cell_type": "code",
   "execution_count": 564,
   "metadata": {},
   "outputs": [
    {
     "data": {
      "text/plain": [
       "[[4.0     1447\n",
       "  6.0      494\n",
       "  8.0      383\n",
       "  1.0      232\n",
       "  12.0     209\n",
       "  Name: servings, dtype: int64]]"
      ]
     },
     "execution_count": 564,
     "metadata": {},
     "output_type": "execute_result"
    }
   ],
   "source": [
    "[[fdf2.servings.value_counts().nlargest(5)]]"
   ]
  },
  {
   "cell_type": "code",
   "execution_count": 574,
   "metadata": {},
   "outputs": [
    {
     "data": {
      "text/plain": [
       "Text(0.5, 1.0, 'Surprising large serving sizes')"
      ]
     },
     "execution_count": 574,
     "metadata": {},
     "output_type": "execute_result"
    },
    {
     "data": {
      "image/png": "[encoded data removed]",
      "text/plain": [
       "<Figure size 432x288 with 1 Axes>"
      ]
     },
     "metadata": {
      "needs_background": "light"
     },
     "output_type": "display_data"
    }
   ],
   "source": [
    "plt.hist(fdf['servings'],density=True,color='orange',bins=50,range=(0,100))\n",
    "plt.xlabel('Amount of Servings')\n",
    "plt.ylabel('Count')\n",
    "plt.title('Surprising large serving sizes', fontsize=20)"
   ]
  },
  {
   "cell_type": "code",
   "execution_count": 562,
   "metadata": {},
   "outputs": [
    {
     "data": {
      "text/html": [
       "<div>\n",
       "<style scoped>\n",
       "    .dataframe tbody tr th:only-of-type {\n",
       "        vertical-align: middle;\n",
       "    }\n",
       "\n",
       "    .dataframe tbody tr th {\n",
       "        vertical-align: top;\n",
       "    }\n",
       "\n",
       "    .dataframe thead th {\n",
       "        text-align: right;\n",
       "    }\n",
       "</style>\n",
       "<table border=\"1\" class=\"dataframe\">\n",
       "  <thead>\n",
       "    <tr style=\"text-align: right;\">\n",
       "      <th></th>\n",
       "      <th>name</th>\n",
       "      <th>servings</th>\n",
       "    </tr>\n",
       "  </thead>\n",
       "  <tbody>\n",
       "    <tr>\n",
       "      <td>1719</td>\n",
       "      <td>Deviled Egg American Flag</td>\n",
       "      <td>54.0</td>\n",
       "    </tr>\n",
       "    <tr>\n",
       "      <td>211</td>\n",
       "      <td>Lemon-Ginger Wafers</td>\n",
       "      <td>60.0</td>\n",
       "    </tr>\n",
       "    <tr>\n",
       "      <td>790</td>\n",
       "      <td>Open-Faced NY Strip \"Philly Cheese Steaks\"</td>\n",
       "      <td>60.0</td>\n",
       "    </tr>\n",
       "    <tr>\n",
       "      <td>1649</td>\n",
       "      <td>Dulce and Banana</td>\n",
       "      <td>60.0</td>\n",
       "    </tr>\n",
       "    <tr>\n",
       "      <td>2819</td>\n",
       "      <td>Rainbow Cookies</td>\n",
       "      <td>70.0</td>\n",
       "    </tr>\n",
       "    <tr>\n",
       "      <td>2742</td>\n",
       "      <td>Red Hot Cinnamon Spritz Cookies</td>\n",
       "      <td>72.0</td>\n",
       "    </tr>\n",
       "    <tr>\n",
       "      <td>910</td>\n",
       "      <td>Parmesan and Pepper Biscuits</td>\n",
       "      <td>80.0</td>\n",
       "    </tr>\n",
       "    <tr>\n",
       "      <td>293</td>\n",
       "      <td>Lemon Spritz Cookies</td>\n",
       "      <td>84.0</td>\n",
       "    </tr>\n",
       "    <tr>\n",
       "      <td>2725</td>\n",
       "      <td>Red Velvet Crinkle Cookies</td>\n",
       "      <td>90.0</td>\n",
       "    </tr>\n",
       "    <tr>\n",
       "      <td>102</td>\n",
       "      <td>Kids Can Make: Healthy, Gluten-Free Cheesy Cra...</td>\n",
       "      <td>100.0</td>\n",
       "    </tr>\n",
       "    <tr>\n",
       "      <td>1495</td>\n",
       "      <td>Candy Cane White Chocolate Fudge</td>\n",
       "      <td>115.0</td>\n",
       "    </tr>\n",
       "    <tr>\n",
       "      <td>911</td>\n",
       "      <td>Parmesan and Pepper Biscuits</td>\n",
       "      <td>192.0</td>\n",
       "    </tr>\n",
       "  </tbody>\n",
       "</table>\n",
       "</div>"
      ],
      "text/plain": [
       "                                                   name  servings\n",
       "1719                          Deviled Egg American Flag      54.0\n",
       "211                                 Lemon-Ginger Wafers      60.0\n",
       "790          Open-Faced NY Strip \"Philly Cheese Steaks\"      60.0\n",
       "1649                                   Dulce and Banana      60.0\n",
       "2819                                    Rainbow Cookies      70.0\n",
       "2742                    Red Hot Cinnamon Spritz Cookies      72.0\n",
       "910                        Parmesan and Pepper Biscuits      80.0\n",
       "293                                Lemon Spritz Cookies      84.0\n",
       "2725                         Red Velvet Crinkle Cookies      90.0\n",
       "102   Kids Can Make: Healthy, Gluten-Free Cheesy Cra...     100.0\n",
       "1495                   Candy Cane White Chocolate Fudge     115.0\n",
       "911                        Parmesan and Pepper Biscuits     192.0"
      ]
     },
     "execution_count": 562,
     "metadata": {},
     "output_type": "execute_result"
    }
   ],
   "source": [
    "fdf[fdf['servings']>50][['name','servings']].sort_values('servings')"
   ]
  },
  {
   "cell_type": "code",
   "execution_count": 585,
   "metadata": {},
   "outputs": [],
   "source": [
    "from collections import Counter\n",
    "fdf = fdf[fdf['ingredients'].isnull()!=True]"
   ]
  },
  {
   "cell_type": "code",
   "execution_count": 587,
   "metadata": {},
   "outputs": [],
   "source": [
    "fdf = fdf[fdf['ingredients']!='none']"
   ]
  },
  {
   "cell_type": "code",
   "execution_count": null,
   "metadata": {},
   "outputs": [],
   "source": []
  },
  {
   "cell_type": "code",
   "execution_count": 613,
   "metadata": {},
   "outputs": [
    {
     "name": "stderr",
     "output_type": "stream",
     "text": [
      "/Users/karolylajko/opt/anaconda3/lib/python3.7/site-packages/ipykernel_launcher.py:1: SettingWithCopyWarning: \n",
      "A value is trying to be set on a copy of a slice from a DataFrame.\n",
      "Try using .loc[row_indexer,col_indexer] = value instead\n",
      "\n",
      "See the caveats in the documentation: http://pandas.pydata.org/pandas-docs/stable/user_guide/indexing.html#returning-a-view-versus-a-copy\n",
      "  \"\"\"Entry point for launching an IPython kernel.\n"
     ]
    }
   ],
   "source": [
    "fdf['items'] = fdf['ingredients'].str.replace('\\d+','').str.replace(r'/','').str.replace(',','').str.replace('(','').str.replace(')','.').str.split(' ')"
   ]
  },
  {
   "cell_type": "code",
   "execution_count": 631,
   "metadata": {},
   "outputs": [
    {
     "name": "stderr",
     "output_type": "stream",
     "text": [
      "/Users/karolylajko/opt/anaconda3/lib/python3.7/site-packages/ipykernel_launcher.py:1: SettingWithCopyWarning: \n",
      "A value is trying to be set on a copy of a slice from a DataFrame.\n",
      "Try using .loc[row_indexer,col_indexer] = value instead\n",
      "\n",
      "See the caveats in the documentation: http://pandas.pydata.org/pandas-docs/stable/user_guide/indexing.html#returning-a-view-versus-a-copy\n",
      "  \"\"\"Entry point for launching an IPython kernel.\n"
     ]
    }
   ],
   "source": [
    "fdf['complex'] = fdf['items'].apply(lambda x : len(x))"
   ]
  },
  {
   "cell_type": "code",
   "execution_count": null,
   "metadata": {},
   "outputs": [],
   "source": []
  },
  {
   "cell_type": "code",
   "execution_count": 634,
   "metadata": {},
   "outputs": [
    {
     "data": {
      "text/plain": [
       "Text(0.5, 1.0, 'Short prep time with higher rating')"
      ]
     },
     "execution_count": 634,
     "metadata": {},
     "output_type": "execute_result"
    },
    {
     "data": {
      "image/png": "[encoded data removed]",
      "text/plain": [
       "<Figure size 432x288 with 1 Axes>"
      ]
     },
     "metadata": {
      "needs_background": "light"
     },
     "output_type": "display_data"
    }
   ],
   "source": [
    "# fdf2  = fdf[['servings','total']].dropna()\n",
    "\n",
    "plt.scatter(fdf['complex'],fdf['total'])\n",
    "plt.xlabel('Amount of ingredients')\n",
    "plt.ylabel('Totaltime prep (min)')\n",
    "plt.title('Short prep time with higher rating', fontsize=15)"
   ]
  },
  {
   "cell_type": "code",
   "execution_count": null,
   "metadata": {},
   "outputs": [],
   "source": []
  },
  {
   "cell_type": "code",
   "execution_count": 651,
   "metadata": {},
   "outputs": [
    {
     "data": {
      "text/plain": [
       "Text(0.5, 1.0, 'Rating and complexity')"
      ]
     },
     "execution_count": 651,
     "metadata": {},
     "output_type": "execute_result"
    },
    {
     "data": {
      "image/png": "[encoded data removed]",
      "text/plain": [
       "<Figure size 432x288 with 1 Axes>"
      ]
     },
     "metadata": {
      "needs_background": "light"
     },
     "output_type": "display_data"
    }
   ],
   "source": [
    "fdf.groupby('complex')['rating'].median().sort_values(ascending=False)[:36].plot.bar(color='orange')\n",
    "plt.xlabel('Items in ingredients')\n",
    "plt.ylabel('Rating')\n",
    "plt.title('Rating and complexity', fontsize=15)"
   ]
  },
  {
   "cell_type": "code",
   "execution_count": 652,
   "metadata": {},
   "outputs": [],
   "source": [
    "fdf.to_csv('webscrape_final.csv')"
   ]
  },
  {
   "cell_type": "code",
   "execution_count": null,
   "metadata": {},
   "outputs": [],
   "source": []
  }
 ],
 "metadata": {
  "kernelspec": {
   "display_name": "Python 3",
   "language": "python",
   "name": "python3"
  },
  "language_info": {
   "codemirror_mode": {
    "name": "ipython",
    "version": 3
   },
   "file_extension": ".py",
   "mimetype": "text/x-python",
   "name": "python",
   "nbconvert_exporter": "python",
   "pygments_lexer": "ipython3",
   "version": "3.7.4"
  }
 },
 "nbformat": 4,
 "nbformat_minor": 2
}
